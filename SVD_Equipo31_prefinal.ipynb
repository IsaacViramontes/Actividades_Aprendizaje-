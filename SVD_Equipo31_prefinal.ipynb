{
  "nbformat": 4,
  "nbformat_minor": 0,
  "metadata": {
    "colab": {
      "provenance": [],
      "collapsed_sections": [
        "1r45l5iSuCw6"
      ],
      "include_colab_link": true
    },
    "kernelspec": {
      "name": "python3",
      "display_name": "Python 3"
    },
    "language_info": {
      "name": "python"
    }
  },
  "cells": [
    {
      "cell_type": "markdown",
      "metadata": {
        "id": "view-in-github",
        "colab_type": "text"
      },
      "source": [
        "<a href=\"https://colab.research.google.com/github/IsaacViramontes/Actividades_Aprendizaje-/blob/main/SVD_Equipo31_prefinal.ipynb\" target=\"_parent\"><img src=\"https://colab.research.google.com/assets/colab-badge.svg\" alt=\"Open In Colab\"/></a>"
      ]
    },
    {
      "cell_type": "markdown",
      "source": [],
      "metadata": {
        "id": "BL_QEeNvtbYU"
      }
    },
    {
      "cell_type": "markdown",
      "source": [
        "# **Descripción de la actividad**"
      ],
      "metadata": {
        "id": "FYBG-3qEtcxb"
      }
    },
    {
      "cell_type": "markdown",
      "source": [
        "---\n",
        "Esta Tarea se deberá resolver en equipos, de acuerdo a como fueron integrados al inicio del curso. \n",
        "Se trabajará con el conjunto de datos llamado \"Restaurant & consumer\", para la generación de un \n",
        "sistema de recomendación. Estos sistemas están dentro de los llamados métodos no supervisados y que \n",
        "se basan en técnicas de reducción de dimensionalidad. \n",
        "El archivo a descargar se llama RCdata.zip y se encuentra en la siguiente liga del repositorio de la UCI: \n",
        "https://archive.ics.uci.edu/ml/datasets/Restaurant+%26+consumer+data  \n",
        "En particular se trabajará con los siguientes archivos, los cuales contienen la información mínima que \n",
        "requerimos para esta actividad: rating_final.csv y geoplaces2.csv. \n",
        "\n",
        "---"
      ],
      "metadata": {
        "id": "HVxc4qV5tgTq"
      }
    },
    {
      "cell_type": "code",
      "source": [
        "rating_final  = 'https://raw.githubusercontent.com/PosgradoMNA/Actividades-de-aprendizaje-Juan-sebastian-tellez-lopez/main/rating_final.csv'\n",
        "geo_places = 'https://raw.githubusercontent.com/PosgradoMNA/Actividades-de-aprendizaje-Juan-sebastian-tellez-lopez/main/geoplaces2.csv'"
      ],
      "metadata": {
        "id": "m8MXNFRKvmr_"
      },
      "execution_count": 1,
      "outputs": []
    },
    {
      "cell_type": "code",
      "source": [
        "import numpy as np\n",
        "import pandas as pd\n",
        "from sklearn.decomposition import TruncatedSVD"
      ],
      "metadata": {
        "id": "Z51FyoxtYFsN"
      },
      "execution_count": 2,
      "outputs": []
    },
    {
      "cell_type": "markdown",
      "source": [
        "# **Objetivo**"
      ],
      "metadata": {
        "id": "XQ3RzJ4ztqyE"
      }
    },
    {
      "cell_type": "markdown",
      "source": [
        "---\n",
        "El objetivo es diseñar tres sistemas de recomendación basados en la evaluación de los usarios a los \n",
        "restaurantes. Dicha evaluación será la general, la referente al servicio y la referente a la comida. \n",
        "\n",
        "---"
      ],
      "metadata": {
        "id": "4e7IiuO-ts0X"
      }
    },
    {
      "cell_type": "markdown",
      "source": [
        "##**Ejercicio 1** "
      ],
      "metadata": {
        "id": "XEmV2VBdt62s"
      }
    },
    {
      "cell_type": "markdown",
      "source": [
        "---\n",
        "Descarga los archivos y genera la matriz de utilidad en la cual los renglones son los usuarios (user_ID), las columnas los nombres de los restaurantes (name) y las entradas la evaluaciones generales dadas por los usuarios (rating). En particular indica el tamaño de dicha matriz y despliega \n",
        "sus primeros 10 renglones. \n",
        "\n",
        "---"
      ],
      "metadata": {
        "id": "JvxL8a_Wtw9v"
      }
    },
    {
      "cell_type": "code",
      "execution_count": 3,
      "metadata": {
        "id": "CoDk3r7ftRV1",
        "colab": {
          "base_uri": "https://localhost:8080/",
          "height": 380
        },
        "outputId": "0e51f587-c7e6-4651-90ee-c82d41ebc8c8"
      },
      "outputs": [
        {
          "output_type": "stream",
          "name": "stdout",
          "text": [
            "(1161, 5)\n"
          ]
        },
        {
          "output_type": "execute_result",
          "data": {
            "text/plain": [
              "  userID  placeID  rating  food_rating  service_rating\n",
              "0  U1077   135085       2            2               2\n",
              "1  U1077   135038       2            2               1\n",
              "2  U1077   132825       2            2               2\n",
              "3  U1077   135060       1            2               2\n",
              "4  U1068   135104       1            1               2\n",
              "5  U1068   132740       0            0               0\n",
              "6  U1068   132663       1            1               1\n",
              "7  U1068   132732       0            0               0\n",
              "8  U1068   132630       1            1               1\n",
              "9  U1067   132584       2            2               2"
            ],
            "text/html": [
              "\n",
              "  <div id=\"df-f1d15897-36c4-4990-8f89-b270593d9161\">\n",
              "    <div class=\"colab-df-container\">\n",
              "      <div>\n",
              "<style scoped>\n",
              "    .dataframe tbody tr th:only-of-type {\n",
              "        vertical-align: middle;\n",
              "    }\n",
              "\n",
              "    .dataframe tbody tr th {\n",
              "        vertical-align: top;\n",
              "    }\n",
              "\n",
              "    .dataframe thead th {\n",
              "        text-align: right;\n",
              "    }\n",
              "</style>\n",
              "<table border=\"1\" class=\"dataframe\">\n",
              "  <thead>\n",
              "    <tr style=\"text-align: right;\">\n",
              "      <th></th>\n",
              "      <th>userID</th>\n",
              "      <th>placeID</th>\n",
              "      <th>rating</th>\n",
              "      <th>food_rating</th>\n",
              "      <th>service_rating</th>\n",
              "    </tr>\n",
              "  </thead>\n",
              "  <tbody>\n",
              "    <tr>\n",
              "      <th>0</th>\n",
              "      <td>U1077</td>\n",
              "      <td>135085</td>\n",
              "      <td>2</td>\n",
              "      <td>2</td>\n",
              "      <td>2</td>\n",
              "    </tr>\n",
              "    <tr>\n",
              "      <th>1</th>\n",
              "      <td>U1077</td>\n",
              "      <td>135038</td>\n",
              "      <td>2</td>\n",
              "      <td>2</td>\n",
              "      <td>1</td>\n",
              "    </tr>\n",
              "    <tr>\n",
              "      <th>2</th>\n",
              "      <td>U1077</td>\n",
              "      <td>132825</td>\n",
              "      <td>2</td>\n",
              "      <td>2</td>\n",
              "      <td>2</td>\n",
              "    </tr>\n",
              "    <tr>\n",
              "      <th>3</th>\n",
              "      <td>U1077</td>\n",
              "      <td>135060</td>\n",
              "      <td>1</td>\n",
              "      <td>2</td>\n",
              "      <td>2</td>\n",
              "    </tr>\n",
              "    <tr>\n",
              "      <th>4</th>\n",
              "      <td>U1068</td>\n",
              "      <td>135104</td>\n",
              "      <td>1</td>\n",
              "      <td>1</td>\n",
              "      <td>2</td>\n",
              "    </tr>\n",
              "    <tr>\n",
              "      <th>5</th>\n",
              "      <td>U1068</td>\n",
              "      <td>132740</td>\n",
              "      <td>0</td>\n",
              "      <td>0</td>\n",
              "      <td>0</td>\n",
              "    </tr>\n",
              "    <tr>\n",
              "      <th>6</th>\n",
              "      <td>U1068</td>\n",
              "      <td>132663</td>\n",
              "      <td>1</td>\n",
              "      <td>1</td>\n",
              "      <td>1</td>\n",
              "    </tr>\n",
              "    <tr>\n",
              "      <th>7</th>\n",
              "      <td>U1068</td>\n",
              "      <td>132732</td>\n",
              "      <td>0</td>\n",
              "      <td>0</td>\n",
              "      <td>0</td>\n",
              "    </tr>\n",
              "    <tr>\n",
              "      <th>8</th>\n",
              "      <td>U1068</td>\n",
              "      <td>132630</td>\n",
              "      <td>1</td>\n",
              "      <td>1</td>\n",
              "      <td>1</td>\n",
              "    </tr>\n",
              "    <tr>\n",
              "      <th>9</th>\n",
              "      <td>U1067</td>\n",
              "      <td>132584</td>\n",
              "      <td>2</td>\n",
              "      <td>2</td>\n",
              "      <td>2</td>\n",
              "    </tr>\n",
              "  </tbody>\n",
              "</table>\n",
              "</div>\n",
              "      <button class=\"colab-df-convert\" onclick=\"convertToInteractive('df-f1d15897-36c4-4990-8f89-b270593d9161')\"\n",
              "              title=\"Convert this dataframe to an interactive table.\"\n",
              "              style=\"display:none;\">\n",
              "        \n",
              "  <svg xmlns=\"http://www.w3.org/2000/svg\" height=\"24px\"viewBox=\"0 0 24 24\"\n",
              "       width=\"24px\">\n",
              "    <path d=\"M0 0h24v24H0V0z\" fill=\"none\"/>\n",
              "    <path d=\"M18.56 5.44l.94 2.06.94-2.06 2.06-.94-2.06-.94-.94-2.06-.94 2.06-2.06.94zm-11 1L8.5 8.5l.94-2.06 2.06-.94-2.06-.94L8.5 2.5l-.94 2.06-2.06.94zm10 10l.94 2.06.94-2.06 2.06-.94-2.06-.94-.94-2.06-.94 2.06-2.06.94z\"/><path d=\"M17.41 7.96l-1.37-1.37c-.4-.4-.92-.59-1.43-.59-.52 0-1.04.2-1.43.59L10.3 9.45l-7.72 7.72c-.78.78-.78 2.05 0 2.83L4 21.41c.39.39.9.59 1.41.59.51 0 1.02-.2 1.41-.59l7.78-7.78 2.81-2.81c.8-.78.8-2.07 0-2.86zM5.41 20L4 18.59l7.72-7.72 1.47 1.35L5.41 20z\"/>\n",
              "  </svg>\n",
              "      </button>\n",
              "      \n",
              "  <style>\n",
              "    .colab-df-container {\n",
              "      display:flex;\n",
              "      flex-wrap:wrap;\n",
              "      gap: 12px;\n",
              "    }\n",
              "\n",
              "    .colab-df-convert {\n",
              "      background-color: #E8F0FE;\n",
              "      border: none;\n",
              "      border-radius: 50%;\n",
              "      cursor: pointer;\n",
              "      display: none;\n",
              "      fill: #1967D2;\n",
              "      height: 32px;\n",
              "      padding: 0 0 0 0;\n",
              "      width: 32px;\n",
              "    }\n",
              "\n",
              "    .colab-df-convert:hover {\n",
              "      background-color: #E2EBFA;\n",
              "      box-shadow: 0px 1px 2px rgba(60, 64, 67, 0.3), 0px 1px 3px 1px rgba(60, 64, 67, 0.15);\n",
              "      fill: #174EA6;\n",
              "    }\n",
              "\n",
              "    [theme=dark] .colab-df-convert {\n",
              "      background-color: #3B4455;\n",
              "      fill: #D2E3FC;\n",
              "    }\n",
              "\n",
              "    [theme=dark] .colab-df-convert:hover {\n",
              "      background-color: #434B5C;\n",
              "      box-shadow: 0px 1px 3px 1px rgba(0, 0, 0, 0.15);\n",
              "      filter: drop-shadow(0px 1px 2px rgba(0, 0, 0, 0.3));\n",
              "      fill: #FFFFFF;\n",
              "    }\n",
              "  </style>\n",
              "\n",
              "      <script>\n",
              "        const buttonEl =\n",
              "          document.querySelector('#df-f1d15897-36c4-4990-8f89-b270593d9161 button.colab-df-convert');\n",
              "        buttonEl.style.display =\n",
              "          google.colab.kernel.accessAllowed ? 'block' : 'none';\n",
              "\n",
              "        async function convertToInteractive(key) {\n",
              "          const element = document.querySelector('#df-f1d15897-36c4-4990-8f89-b270593d9161');\n",
              "          const dataTable =\n",
              "            await google.colab.kernel.invokeFunction('convertToInteractive',\n",
              "                                                     [key], {});\n",
              "          if (!dataTable) return;\n",
              "\n",
              "          const docLinkHtml = 'Like what you see? Visit the ' +\n",
              "            '<a target=\"_blank\" href=https://colab.research.google.com/notebooks/data_table.ipynb>data table notebook</a>'\n",
              "            + ' to learn more about interactive tables.';\n",
              "          element.innerHTML = '';\n",
              "          dataTable['output_type'] = 'display_data';\n",
              "          await google.colab.output.renderOutput(dataTable, element);\n",
              "          const docLink = document.createElement('div');\n",
              "          docLink.innerHTML = docLinkHtml;\n",
              "          element.appendChild(docLink);\n",
              "        }\n",
              "      </script>\n",
              "    </div>\n",
              "  </div>\n",
              "  "
            ]
          },
          "metadata": {},
          "execution_count": 3
        }
      ],
      "source": [
        "dfrating = pd.read_csv(rating_final, sep=\",\")  #Observaremos la información que tenemos en nuestro primer archivo.\n",
        "print(dfrating.shape)\n",
        "dfrating.head(10)"
      ]
    },
    {
      "cell_type": "code",
      "source": [
        "dfgeoplaces = pd.read_csv(geo_places,encoding='cp1252')  #Observaremos la información que tenemos en nuestro segundo archivo.\n",
        "print(dfgeoplaces.shape)\n",
        "dfgeoplaces.head(10)"
      ],
      "metadata": {
        "colab": {
          "base_uri": "https://localhost:8080/",
          "height": 716
        },
        "id": "GdHIpG3GauMY",
        "outputId": "0c16f0d3-739a-4072-e507-22b3e6e3c08e"
      },
      "execution_count": 4,
      "outputs": [
        {
          "output_type": "stream",
          "name": "stdout",
          "text": [
            "(130, 21)\n"
          ]
        },
        {
          "output_type": "execute_result",
          "data": {
            "text/plain": [
              "   placeID   latitude   longitude  \\\n",
              "0   134999  18.915421  -99.184871   \n",
              "1   132825  22.147392 -100.983092   \n",
              "2   135106  22.149709 -100.976093   \n",
              "3   132667  23.752697  -99.163359   \n",
              "4   132613  23.752903  -99.165076   \n",
              "5   135040  22.135617 -100.969709   \n",
              "6   132732  23.754357  -99.171288   \n",
              "7   132875  22.149901 -100.993779   \n",
              "8   132609  23.760268  -99.165865   \n",
              "9   135082  22.151448 -100.915099   \n",
              "\n",
              "                                      the_geom_meter  \\\n",
              "0  0101000020957F000088568DE356715AC138C0A525FC46...   \n",
              "1  0101000020957F00001AD016568C4858C1243261274BA5...   \n",
              "2  0101000020957F0000649D6F21634858C119AE9BF528A3...   \n",
              "3  0101000020957F00005D67BCDDED8157C1222A2DC8D84D...   \n",
              "4  0101000020957F00008EBA2D06DC8157C194E03B7B504E...   \n",
              "5  0101000020957F00001B552189B84A58C15A2AAEFD2CA2...   \n",
              "6  0101000020957F00008A20E615808157C16272FECBF84F...   \n",
              "7  0101000020957F00008A2A0747DE4758C11EB31D2A31A8...   \n",
              "8  0101000020957F0000A478418BBA8057C133851EB22C4E...   \n",
              "9  0101000020957F0000A29FAF95CD4958C1FEEEBB73A991...   \n",
              "\n",
              "                             name                                 address  \\\n",
              "0                 Kiku Cuernavaca                              Revolucion   \n",
              "1                 puesto de tacos  esquina santos degollado y leon guzman   \n",
              "2      El Rincón de San Francisco                         Universidad 169   \n",
              "3  little pizza Emilio Portes Gil                 calle emilio portes gil   \n",
              "4                   carnitas_mata                  lic. Emilio portes gil   \n",
              "5        Restaurant los Compadres          Camino a Simon Diaz 155 Centro   \n",
              "6              Taqueria EL amigo         Calle Mezquite Fracc Framboyanes   \n",
              "7                       shi ro ie                                       ?   \n",
              "8        Pollo_Frito_Buenos_Aires                                 tampico   \n",
              "9            la Estrella de Dimas       Villa de Pozos 192 Villa de Pozos   \n",
              "\n",
              "              city            state country fax  ...            alcohol  \\\n",
              "0       Cuernavaca          Morelos  Mexico   ?  ...  No_Alcohol_Served   \n",
              "1           s.l.p.           s.l.p.  mexico   ?  ...  No_Alcohol_Served   \n",
              "2  San Luis Potosi  San Luis Potosi  Mexico   ?  ...          Wine-Beer   \n",
              "3        victoria        tamaulipas       ?   ?  ...  No_Alcohol_Served   \n",
              "4         victoria       Tamaulipas  Mexico   ?  ...  No_Alcohol_Served   \n",
              "5  San Luis Potosi              SLP  Mexico   ?  ...          Wine-Beer   \n",
              "6      Cd Victoria       Tamaulipas  Mexico   ?  ...  No_Alcohol_Served   \n",
              "7                ?                ?       ?   ?  ...          Wine-Beer   \n",
              "8         victoria       Tamaulipas  Mexico   ?  ...  No_Alcohol_Served   \n",
              "9  San Luis Potosi              SLP  Mexico   ?  ...  No_Alcohol_Served   \n",
              "\n",
              "    smoking_area dress_code     accessibility   price                    url  \\\n",
              "0           none   informal  no_accessibility  medium  kikucuernavaca.com.mx   \n",
              "1           none   informal        completely     low                      ?   \n",
              "2    only at bar   informal         partially  medium                      ?   \n",
              "3           none   informal        completely     low                      ?   \n",
              "4      permitted   informal        completely  medium                      ?   \n",
              "5           none   informal  no_accessibility    high                      ?   \n",
              "6           none     casual        completely     low                      ?   \n",
              "7        section   informal  no_accessibility    high                      ?   \n",
              "8  not permitted   informal        completely     low                      ?   \n",
              "9           none   informal  no_accessibility  medium                      ?   \n",
              "\n",
              "  Rambience franchise    area other_services  \n",
              "0  familiar         f  closed           none  \n",
              "1  familiar         f    open           none  \n",
              "2  familiar         f    open           none  \n",
              "3  familiar         t  closed           none  \n",
              "4  familiar         t  closed           none  \n",
              "5  familiar         f  closed           none  \n",
              "6  familiar         f    open           none  \n",
              "7  familiar         t    open       Internet  \n",
              "8     quiet         t  closed           none  \n",
              "9  familiar         f  closed           none  \n",
              "\n",
              "[10 rows x 21 columns]"
            ],
            "text/html": [
              "\n",
              "  <div id=\"df-bed28e36-864f-4324-8dc4-52ac709af235\">\n",
              "    <div class=\"colab-df-container\">\n",
              "      <div>\n",
              "<style scoped>\n",
              "    .dataframe tbody tr th:only-of-type {\n",
              "        vertical-align: middle;\n",
              "    }\n",
              "\n",
              "    .dataframe tbody tr th {\n",
              "        vertical-align: top;\n",
              "    }\n",
              "\n",
              "    .dataframe thead th {\n",
              "        text-align: right;\n",
              "    }\n",
              "</style>\n",
              "<table border=\"1\" class=\"dataframe\">\n",
              "  <thead>\n",
              "    <tr style=\"text-align: right;\">\n",
              "      <th></th>\n",
              "      <th>placeID</th>\n",
              "      <th>latitude</th>\n",
              "      <th>longitude</th>\n",
              "      <th>the_geom_meter</th>\n",
              "      <th>name</th>\n",
              "      <th>address</th>\n",
              "      <th>city</th>\n",
              "      <th>state</th>\n",
              "      <th>country</th>\n",
              "      <th>fax</th>\n",
              "      <th>...</th>\n",
              "      <th>alcohol</th>\n",
              "      <th>smoking_area</th>\n",
              "      <th>dress_code</th>\n",
              "      <th>accessibility</th>\n",
              "      <th>price</th>\n",
              "      <th>url</th>\n",
              "      <th>Rambience</th>\n",
              "      <th>franchise</th>\n",
              "      <th>area</th>\n",
              "      <th>other_services</th>\n",
              "    </tr>\n",
              "  </thead>\n",
              "  <tbody>\n",
              "    <tr>\n",
              "      <th>0</th>\n",
              "      <td>134999</td>\n",
              "      <td>18.915421</td>\n",
              "      <td>-99.184871</td>\n",
              "      <td>0101000020957F000088568DE356715AC138C0A525FC46...</td>\n",
              "      <td>Kiku Cuernavaca</td>\n",
              "      <td>Revolucion</td>\n",
              "      <td>Cuernavaca</td>\n",
              "      <td>Morelos</td>\n",
              "      <td>Mexico</td>\n",
              "      <td>?</td>\n",
              "      <td>...</td>\n",
              "      <td>No_Alcohol_Served</td>\n",
              "      <td>none</td>\n",
              "      <td>informal</td>\n",
              "      <td>no_accessibility</td>\n",
              "      <td>medium</td>\n",
              "      <td>kikucuernavaca.com.mx</td>\n",
              "      <td>familiar</td>\n",
              "      <td>f</td>\n",
              "      <td>closed</td>\n",
              "      <td>none</td>\n",
              "    </tr>\n",
              "    <tr>\n",
              "      <th>1</th>\n",
              "      <td>132825</td>\n",
              "      <td>22.147392</td>\n",
              "      <td>-100.983092</td>\n",
              "      <td>0101000020957F00001AD016568C4858C1243261274BA5...</td>\n",
              "      <td>puesto de tacos</td>\n",
              "      <td>esquina santos degollado y leon guzman</td>\n",
              "      <td>s.l.p.</td>\n",
              "      <td>s.l.p.</td>\n",
              "      <td>mexico</td>\n",
              "      <td>?</td>\n",
              "      <td>...</td>\n",
              "      <td>No_Alcohol_Served</td>\n",
              "      <td>none</td>\n",
              "      <td>informal</td>\n",
              "      <td>completely</td>\n",
              "      <td>low</td>\n",
              "      <td>?</td>\n",
              "      <td>familiar</td>\n",
              "      <td>f</td>\n",
              "      <td>open</td>\n",
              "      <td>none</td>\n",
              "    </tr>\n",
              "    <tr>\n",
              "      <th>2</th>\n",
              "      <td>135106</td>\n",
              "      <td>22.149709</td>\n",
              "      <td>-100.976093</td>\n",
              "      <td>0101000020957F0000649D6F21634858C119AE9BF528A3...</td>\n",
              "      <td>El Rincón de San Francisco</td>\n",
              "      <td>Universidad 169</td>\n",
              "      <td>San Luis Potosi</td>\n",
              "      <td>San Luis Potosi</td>\n",
              "      <td>Mexico</td>\n",
              "      <td>?</td>\n",
              "      <td>...</td>\n",
              "      <td>Wine-Beer</td>\n",
              "      <td>only at bar</td>\n",
              "      <td>informal</td>\n",
              "      <td>partially</td>\n",
              "      <td>medium</td>\n",
              "      <td>?</td>\n",
              "      <td>familiar</td>\n",
              "      <td>f</td>\n",
              "      <td>open</td>\n",
              "      <td>none</td>\n",
              "    </tr>\n",
              "    <tr>\n",
              "      <th>3</th>\n",
              "      <td>132667</td>\n",
              "      <td>23.752697</td>\n",
              "      <td>-99.163359</td>\n",
              "      <td>0101000020957F00005D67BCDDED8157C1222A2DC8D84D...</td>\n",
              "      <td>little pizza Emilio Portes Gil</td>\n",
              "      <td>calle emilio portes gil</td>\n",
              "      <td>victoria</td>\n",
              "      <td>tamaulipas</td>\n",
              "      <td>?</td>\n",
              "      <td>?</td>\n",
              "      <td>...</td>\n",
              "      <td>No_Alcohol_Served</td>\n",
              "      <td>none</td>\n",
              "      <td>informal</td>\n",
              "      <td>completely</td>\n",
              "      <td>low</td>\n",
              "      <td>?</td>\n",
              "      <td>familiar</td>\n",
              "      <td>t</td>\n",
              "      <td>closed</td>\n",
              "      <td>none</td>\n",
              "    </tr>\n",
              "    <tr>\n",
              "      <th>4</th>\n",
              "      <td>132613</td>\n",
              "      <td>23.752903</td>\n",
              "      <td>-99.165076</td>\n",
              "      <td>0101000020957F00008EBA2D06DC8157C194E03B7B504E...</td>\n",
              "      <td>carnitas_mata</td>\n",
              "      <td>lic. Emilio portes gil</td>\n",
              "      <td>victoria</td>\n",
              "      <td>Tamaulipas</td>\n",
              "      <td>Mexico</td>\n",
              "      <td>?</td>\n",
              "      <td>...</td>\n",
              "      <td>No_Alcohol_Served</td>\n",
              "      <td>permitted</td>\n",
              "      <td>informal</td>\n",
              "      <td>completely</td>\n",
              "      <td>medium</td>\n",
              "      <td>?</td>\n",
              "      <td>familiar</td>\n",
              "      <td>t</td>\n",
              "      <td>closed</td>\n",
              "      <td>none</td>\n",
              "    </tr>\n",
              "    <tr>\n",
              "      <th>5</th>\n",
              "      <td>135040</td>\n",
              "      <td>22.135617</td>\n",
              "      <td>-100.969709</td>\n",
              "      <td>0101000020957F00001B552189B84A58C15A2AAEFD2CA2...</td>\n",
              "      <td>Restaurant los Compadres</td>\n",
              "      <td>Camino a Simon Diaz 155 Centro</td>\n",
              "      <td>San Luis Potosi</td>\n",
              "      <td>SLP</td>\n",
              "      <td>Mexico</td>\n",
              "      <td>?</td>\n",
              "      <td>...</td>\n",
              "      <td>Wine-Beer</td>\n",
              "      <td>none</td>\n",
              "      <td>informal</td>\n",
              "      <td>no_accessibility</td>\n",
              "      <td>high</td>\n",
              "      <td>?</td>\n",
              "      <td>familiar</td>\n",
              "      <td>f</td>\n",
              "      <td>closed</td>\n",
              "      <td>none</td>\n",
              "    </tr>\n",
              "    <tr>\n",
              "      <th>6</th>\n",
              "      <td>132732</td>\n",
              "      <td>23.754357</td>\n",
              "      <td>-99.171288</td>\n",
              "      <td>0101000020957F00008A20E615808157C16272FECBF84F...</td>\n",
              "      <td>Taqueria EL amigo</td>\n",
              "      <td>Calle Mezquite Fracc Framboyanes</td>\n",
              "      <td>Cd Victoria</td>\n",
              "      <td>Tamaulipas</td>\n",
              "      <td>Mexico</td>\n",
              "      <td>?</td>\n",
              "      <td>...</td>\n",
              "      <td>No_Alcohol_Served</td>\n",
              "      <td>none</td>\n",
              "      <td>casual</td>\n",
              "      <td>completely</td>\n",
              "      <td>low</td>\n",
              "      <td>?</td>\n",
              "      <td>familiar</td>\n",
              "      <td>f</td>\n",
              "      <td>open</td>\n",
              "      <td>none</td>\n",
              "    </tr>\n",
              "    <tr>\n",
              "      <th>7</th>\n",
              "      <td>132875</td>\n",
              "      <td>22.149901</td>\n",
              "      <td>-100.993779</td>\n",
              "      <td>0101000020957F00008A2A0747DE4758C11EB31D2A31A8...</td>\n",
              "      <td>shi ro ie</td>\n",
              "      <td>?</td>\n",
              "      <td>?</td>\n",
              "      <td>?</td>\n",
              "      <td>?</td>\n",
              "      <td>?</td>\n",
              "      <td>...</td>\n",
              "      <td>Wine-Beer</td>\n",
              "      <td>section</td>\n",
              "      <td>informal</td>\n",
              "      <td>no_accessibility</td>\n",
              "      <td>high</td>\n",
              "      <td>?</td>\n",
              "      <td>familiar</td>\n",
              "      <td>t</td>\n",
              "      <td>open</td>\n",
              "      <td>Internet</td>\n",
              "    </tr>\n",
              "    <tr>\n",
              "      <th>8</th>\n",
              "      <td>132609</td>\n",
              "      <td>23.760268</td>\n",
              "      <td>-99.165865</td>\n",
              "      <td>0101000020957F0000A478418BBA8057C133851EB22C4E...</td>\n",
              "      <td>Pollo_Frito_Buenos_Aires</td>\n",
              "      <td>tampico</td>\n",
              "      <td>victoria</td>\n",
              "      <td>Tamaulipas</td>\n",
              "      <td>Mexico</td>\n",
              "      <td>?</td>\n",
              "      <td>...</td>\n",
              "      <td>No_Alcohol_Served</td>\n",
              "      <td>not permitted</td>\n",
              "      <td>informal</td>\n",
              "      <td>completely</td>\n",
              "      <td>low</td>\n",
              "      <td>?</td>\n",
              "      <td>quiet</td>\n",
              "      <td>t</td>\n",
              "      <td>closed</td>\n",
              "      <td>none</td>\n",
              "    </tr>\n",
              "    <tr>\n",
              "      <th>9</th>\n",
              "      <td>135082</td>\n",
              "      <td>22.151448</td>\n",
              "      <td>-100.915099</td>\n",
              "      <td>0101000020957F0000A29FAF95CD4958C1FEEEBB73A991...</td>\n",
              "      <td>la Estrella de Dimas</td>\n",
              "      <td>Villa de Pozos 192 Villa de Pozos</td>\n",
              "      <td>San Luis Potosi</td>\n",
              "      <td>SLP</td>\n",
              "      <td>Mexico</td>\n",
              "      <td>?</td>\n",
              "      <td>...</td>\n",
              "      <td>No_Alcohol_Served</td>\n",
              "      <td>none</td>\n",
              "      <td>informal</td>\n",
              "      <td>no_accessibility</td>\n",
              "      <td>medium</td>\n",
              "      <td>?</td>\n",
              "      <td>familiar</td>\n",
              "      <td>f</td>\n",
              "      <td>closed</td>\n",
              "      <td>none</td>\n",
              "    </tr>\n",
              "  </tbody>\n",
              "</table>\n",
              "<p>10 rows × 21 columns</p>\n",
              "</div>\n",
              "      <button class=\"colab-df-convert\" onclick=\"convertToInteractive('df-bed28e36-864f-4324-8dc4-52ac709af235')\"\n",
              "              title=\"Convert this dataframe to an interactive table.\"\n",
              "              style=\"display:none;\">\n",
              "        \n",
              "  <svg xmlns=\"http://www.w3.org/2000/svg\" height=\"24px\"viewBox=\"0 0 24 24\"\n",
              "       width=\"24px\">\n",
              "    <path d=\"M0 0h24v24H0V0z\" fill=\"none\"/>\n",
              "    <path d=\"M18.56 5.44l.94 2.06.94-2.06 2.06-.94-2.06-.94-.94-2.06-.94 2.06-2.06.94zm-11 1L8.5 8.5l.94-2.06 2.06-.94-2.06-.94L8.5 2.5l-.94 2.06-2.06.94zm10 10l.94 2.06.94-2.06 2.06-.94-2.06-.94-.94-2.06-.94 2.06-2.06.94z\"/><path d=\"M17.41 7.96l-1.37-1.37c-.4-.4-.92-.59-1.43-.59-.52 0-1.04.2-1.43.59L10.3 9.45l-7.72 7.72c-.78.78-.78 2.05 0 2.83L4 21.41c.39.39.9.59 1.41.59.51 0 1.02-.2 1.41-.59l7.78-7.78 2.81-2.81c.8-.78.8-2.07 0-2.86zM5.41 20L4 18.59l7.72-7.72 1.47 1.35L5.41 20z\"/>\n",
              "  </svg>\n",
              "      </button>\n",
              "      \n",
              "  <style>\n",
              "    .colab-df-container {\n",
              "      display:flex;\n",
              "      flex-wrap:wrap;\n",
              "      gap: 12px;\n",
              "    }\n",
              "\n",
              "    .colab-df-convert {\n",
              "      background-color: #E8F0FE;\n",
              "      border: none;\n",
              "      border-radius: 50%;\n",
              "      cursor: pointer;\n",
              "      display: none;\n",
              "      fill: #1967D2;\n",
              "      height: 32px;\n",
              "      padding: 0 0 0 0;\n",
              "      width: 32px;\n",
              "    }\n",
              "\n",
              "    .colab-df-convert:hover {\n",
              "      background-color: #E2EBFA;\n",
              "      box-shadow: 0px 1px 2px rgba(60, 64, 67, 0.3), 0px 1px 3px 1px rgba(60, 64, 67, 0.15);\n",
              "      fill: #174EA6;\n",
              "    }\n",
              "\n",
              "    [theme=dark] .colab-df-convert {\n",
              "      background-color: #3B4455;\n",
              "      fill: #D2E3FC;\n",
              "    }\n",
              "\n",
              "    [theme=dark] .colab-df-convert:hover {\n",
              "      background-color: #434B5C;\n",
              "      box-shadow: 0px 1px 3px 1px rgba(0, 0, 0, 0.15);\n",
              "      filter: drop-shadow(0px 1px 2px rgba(0, 0, 0, 0.3));\n",
              "      fill: #FFFFFF;\n",
              "    }\n",
              "  </style>\n",
              "\n",
              "      <script>\n",
              "        const buttonEl =\n",
              "          document.querySelector('#df-bed28e36-864f-4324-8dc4-52ac709af235 button.colab-df-convert');\n",
              "        buttonEl.style.display =\n",
              "          google.colab.kernel.accessAllowed ? 'block' : 'none';\n",
              "\n",
              "        async function convertToInteractive(key) {\n",
              "          const element = document.querySelector('#df-bed28e36-864f-4324-8dc4-52ac709af235');\n",
              "          const dataTable =\n",
              "            await google.colab.kernel.invokeFunction('convertToInteractive',\n",
              "                                                     [key], {});\n",
              "          if (!dataTable) return;\n",
              "\n",
              "          const docLinkHtml = 'Like what you see? Visit the ' +\n",
              "            '<a target=\"_blank\" href=https://colab.research.google.com/notebooks/data_table.ipynb>data table notebook</a>'\n",
              "            + ' to learn more about interactive tables.';\n",
              "          element.innerHTML = '';\n",
              "          dataTable['output_type'] = 'display_data';\n",
              "          await google.colab.output.renderOutput(dataTable, element);\n",
              "          const docLink = document.createElement('div');\n",
              "          docLink.innerHTML = docLinkHtml;\n",
              "          element.appendChild(docLink);\n",
              "        }\n",
              "      </script>\n",
              "    </div>\n",
              "  </div>\n",
              "  "
            ]
          },
          "metadata": {},
          "execution_count": 4
        }
      ]
    },
    {
      "cell_type": "markdown",
      "source": [
        "---\n",
        "Vamos a tomar las columnas que necesitamos para empezar a armar nuestra matriz de utilidad.\n",
        "\n",
        "---"
      ],
      "metadata": {
        "id": "RmsXdQlUbPVW"
      }
    },
    {
      "cell_type": "code",
      "source": [
        "dfrating = dfrating[['userID','placeID','rating']]\n",
        "dfrating.head(3)"
      ],
      "metadata": {
        "colab": {
          "base_uri": "https://localhost:8080/",
          "height": 143
        },
        "id": "Mtf7PHGncdAN",
        "outputId": "ac331eb8-3536-473e-831c-905cdc437476"
      },
      "execution_count": 5,
      "outputs": [
        {
          "output_type": "execute_result",
          "data": {
            "text/plain": [
              "  userID  placeID  rating\n",
              "0  U1077   135085       2\n",
              "1  U1077   135038       2\n",
              "2  U1077   132825       2"
            ],
            "text/html": [
              "\n",
              "  <div id=\"df-d326cb57-32dd-41e7-9e08-b64c6d2d300c\">\n",
              "    <div class=\"colab-df-container\">\n",
              "      <div>\n",
              "<style scoped>\n",
              "    .dataframe tbody tr th:only-of-type {\n",
              "        vertical-align: middle;\n",
              "    }\n",
              "\n",
              "    .dataframe tbody tr th {\n",
              "        vertical-align: top;\n",
              "    }\n",
              "\n",
              "    .dataframe thead th {\n",
              "        text-align: right;\n",
              "    }\n",
              "</style>\n",
              "<table border=\"1\" class=\"dataframe\">\n",
              "  <thead>\n",
              "    <tr style=\"text-align: right;\">\n",
              "      <th></th>\n",
              "      <th>userID</th>\n",
              "      <th>placeID</th>\n",
              "      <th>rating</th>\n",
              "    </tr>\n",
              "  </thead>\n",
              "  <tbody>\n",
              "    <tr>\n",
              "      <th>0</th>\n",
              "      <td>U1077</td>\n",
              "      <td>135085</td>\n",
              "      <td>2</td>\n",
              "    </tr>\n",
              "    <tr>\n",
              "      <th>1</th>\n",
              "      <td>U1077</td>\n",
              "      <td>135038</td>\n",
              "      <td>2</td>\n",
              "    </tr>\n",
              "    <tr>\n",
              "      <th>2</th>\n",
              "      <td>U1077</td>\n",
              "      <td>132825</td>\n",
              "      <td>2</td>\n",
              "    </tr>\n",
              "  </tbody>\n",
              "</table>\n",
              "</div>\n",
              "      <button class=\"colab-df-convert\" onclick=\"convertToInteractive('df-d326cb57-32dd-41e7-9e08-b64c6d2d300c')\"\n",
              "              title=\"Convert this dataframe to an interactive table.\"\n",
              "              style=\"display:none;\">\n",
              "        \n",
              "  <svg xmlns=\"http://www.w3.org/2000/svg\" height=\"24px\"viewBox=\"0 0 24 24\"\n",
              "       width=\"24px\">\n",
              "    <path d=\"M0 0h24v24H0V0z\" fill=\"none\"/>\n",
              "    <path d=\"M18.56 5.44l.94 2.06.94-2.06 2.06-.94-2.06-.94-.94-2.06-.94 2.06-2.06.94zm-11 1L8.5 8.5l.94-2.06 2.06-.94-2.06-.94L8.5 2.5l-.94 2.06-2.06.94zm10 10l.94 2.06.94-2.06 2.06-.94-2.06-.94-.94-2.06-.94 2.06-2.06.94z\"/><path d=\"M17.41 7.96l-1.37-1.37c-.4-.4-.92-.59-1.43-.59-.52 0-1.04.2-1.43.59L10.3 9.45l-7.72 7.72c-.78.78-.78 2.05 0 2.83L4 21.41c.39.39.9.59 1.41.59.51 0 1.02-.2 1.41-.59l7.78-7.78 2.81-2.81c.8-.78.8-2.07 0-2.86zM5.41 20L4 18.59l7.72-7.72 1.47 1.35L5.41 20z\"/>\n",
              "  </svg>\n",
              "      </button>\n",
              "      \n",
              "  <style>\n",
              "    .colab-df-container {\n",
              "      display:flex;\n",
              "      flex-wrap:wrap;\n",
              "      gap: 12px;\n",
              "    }\n",
              "\n",
              "    .colab-df-convert {\n",
              "      background-color: #E8F0FE;\n",
              "      border: none;\n",
              "      border-radius: 50%;\n",
              "      cursor: pointer;\n",
              "      display: none;\n",
              "      fill: #1967D2;\n",
              "      height: 32px;\n",
              "      padding: 0 0 0 0;\n",
              "      width: 32px;\n",
              "    }\n",
              "\n",
              "    .colab-df-convert:hover {\n",
              "      background-color: #E2EBFA;\n",
              "      box-shadow: 0px 1px 2px rgba(60, 64, 67, 0.3), 0px 1px 3px 1px rgba(60, 64, 67, 0.15);\n",
              "      fill: #174EA6;\n",
              "    }\n",
              "\n",
              "    [theme=dark] .colab-df-convert {\n",
              "      background-color: #3B4455;\n",
              "      fill: #D2E3FC;\n",
              "    }\n",
              "\n",
              "    [theme=dark] .colab-df-convert:hover {\n",
              "      background-color: #434B5C;\n",
              "      box-shadow: 0px 1px 3px 1px rgba(0, 0, 0, 0.15);\n",
              "      filter: drop-shadow(0px 1px 2px rgba(0, 0, 0, 0.3));\n",
              "      fill: #FFFFFF;\n",
              "    }\n",
              "  </style>\n",
              "\n",
              "      <script>\n",
              "        const buttonEl =\n",
              "          document.querySelector('#df-d326cb57-32dd-41e7-9e08-b64c6d2d300c button.colab-df-convert');\n",
              "        buttonEl.style.display =\n",
              "          google.colab.kernel.accessAllowed ? 'block' : 'none';\n",
              "\n",
              "        async function convertToInteractive(key) {\n",
              "          const element = document.querySelector('#df-d326cb57-32dd-41e7-9e08-b64c6d2d300c');\n",
              "          const dataTable =\n",
              "            await google.colab.kernel.invokeFunction('convertToInteractive',\n",
              "                                                     [key], {});\n",
              "          if (!dataTable) return;\n",
              "\n",
              "          const docLinkHtml = 'Like what you see? Visit the ' +\n",
              "            '<a target=\"_blank\" href=https://colab.research.google.com/notebooks/data_table.ipynb>data table notebook</a>'\n",
              "            + ' to learn more about interactive tables.';\n",
              "          element.innerHTML = '';\n",
              "          dataTable['output_type'] = 'display_data';\n",
              "          await google.colab.output.renderOutput(dataTable, element);\n",
              "          const docLink = document.createElement('div');\n",
              "          docLink.innerHTML = docLinkHtml;\n",
              "          element.appendChild(docLink);\n",
              "        }\n",
              "      </script>\n",
              "    </div>\n",
              "  </div>\n",
              "  "
            ]
          },
          "metadata": {},
          "execution_count": 5
        }
      ]
    },
    {
      "cell_type": "code",
      "source": [
        "dfgeoplaces = dfgeoplaces[['placeID','name']]\n",
        "dfgeoplaces.head(3)"
      ],
      "metadata": {
        "colab": {
          "base_uri": "https://localhost:8080/",
          "height": 143
        },
        "id": "RKqjSwRSc9jR",
        "outputId": "e2b95a18-bcf3-487e-ec8b-e6a5acbaf051"
      },
      "execution_count": 6,
      "outputs": [
        {
          "output_type": "execute_result",
          "data": {
            "text/plain": [
              "   placeID                        name\n",
              "0   134999             Kiku Cuernavaca\n",
              "1   132825             puesto de tacos\n",
              "2   135106  El Rincón de San Francisco"
            ],
            "text/html": [
              "\n",
              "  <div id=\"df-0c6782d1-2ede-4e29-8ab0-4fc9b3079bce\">\n",
              "    <div class=\"colab-df-container\">\n",
              "      <div>\n",
              "<style scoped>\n",
              "    .dataframe tbody tr th:only-of-type {\n",
              "        vertical-align: middle;\n",
              "    }\n",
              "\n",
              "    .dataframe tbody tr th {\n",
              "        vertical-align: top;\n",
              "    }\n",
              "\n",
              "    .dataframe thead th {\n",
              "        text-align: right;\n",
              "    }\n",
              "</style>\n",
              "<table border=\"1\" class=\"dataframe\">\n",
              "  <thead>\n",
              "    <tr style=\"text-align: right;\">\n",
              "      <th></th>\n",
              "      <th>placeID</th>\n",
              "      <th>name</th>\n",
              "    </tr>\n",
              "  </thead>\n",
              "  <tbody>\n",
              "    <tr>\n",
              "      <th>0</th>\n",
              "      <td>134999</td>\n",
              "      <td>Kiku Cuernavaca</td>\n",
              "    </tr>\n",
              "    <tr>\n",
              "      <th>1</th>\n",
              "      <td>132825</td>\n",
              "      <td>puesto de tacos</td>\n",
              "    </tr>\n",
              "    <tr>\n",
              "      <th>2</th>\n",
              "      <td>135106</td>\n",
              "      <td>El Rincón de San Francisco</td>\n",
              "    </tr>\n",
              "  </tbody>\n",
              "</table>\n",
              "</div>\n",
              "      <button class=\"colab-df-convert\" onclick=\"convertToInteractive('df-0c6782d1-2ede-4e29-8ab0-4fc9b3079bce')\"\n",
              "              title=\"Convert this dataframe to an interactive table.\"\n",
              "              style=\"display:none;\">\n",
              "        \n",
              "  <svg xmlns=\"http://www.w3.org/2000/svg\" height=\"24px\"viewBox=\"0 0 24 24\"\n",
              "       width=\"24px\">\n",
              "    <path d=\"M0 0h24v24H0V0z\" fill=\"none\"/>\n",
              "    <path d=\"M18.56 5.44l.94 2.06.94-2.06 2.06-.94-2.06-.94-.94-2.06-.94 2.06-2.06.94zm-11 1L8.5 8.5l.94-2.06 2.06-.94-2.06-.94L8.5 2.5l-.94 2.06-2.06.94zm10 10l.94 2.06.94-2.06 2.06-.94-2.06-.94-.94-2.06-.94 2.06-2.06.94z\"/><path d=\"M17.41 7.96l-1.37-1.37c-.4-.4-.92-.59-1.43-.59-.52 0-1.04.2-1.43.59L10.3 9.45l-7.72 7.72c-.78.78-.78 2.05 0 2.83L4 21.41c.39.39.9.59 1.41.59.51 0 1.02-.2 1.41-.59l7.78-7.78 2.81-2.81c.8-.78.8-2.07 0-2.86zM5.41 20L4 18.59l7.72-7.72 1.47 1.35L5.41 20z\"/>\n",
              "  </svg>\n",
              "      </button>\n",
              "      \n",
              "  <style>\n",
              "    .colab-df-container {\n",
              "      display:flex;\n",
              "      flex-wrap:wrap;\n",
              "      gap: 12px;\n",
              "    }\n",
              "\n",
              "    .colab-df-convert {\n",
              "      background-color: #E8F0FE;\n",
              "      border: none;\n",
              "      border-radius: 50%;\n",
              "      cursor: pointer;\n",
              "      display: none;\n",
              "      fill: #1967D2;\n",
              "      height: 32px;\n",
              "      padding: 0 0 0 0;\n",
              "      width: 32px;\n",
              "    }\n",
              "\n",
              "    .colab-df-convert:hover {\n",
              "      background-color: #E2EBFA;\n",
              "      box-shadow: 0px 1px 2px rgba(60, 64, 67, 0.3), 0px 1px 3px 1px rgba(60, 64, 67, 0.15);\n",
              "      fill: #174EA6;\n",
              "    }\n",
              "\n",
              "    [theme=dark] .colab-df-convert {\n",
              "      background-color: #3B4455;\n",
              "      fill: #D2E3FC;\n",
              "    }\n",
              "\n",
              "    [theme=dark] .colab-df-convert:hover {\n",
              "      background-color: #434B5C;\n",
              "      box-shadow: 0px 1px 3px 1px rgba(0, 0, 0, 0.15);\n",
              "      filter: drop-shadow(0px 1px 2px rgba(0, 0, 0, 0.3));\n",
              "      fill: #FFFFFF;\n",
              "    }\n",
              "  </style>\n",
              "\n",
              "      <script>\n",
              "        const buttonEl =\n",
              "          document.querySelector('#df-0c6782d1-2ede-4e29-8ab0-4fc9b3079bce button.colab-df-convert');\n",
              "        buttonEl.style.display =\n",
              "          google.colab.kernel.accessAllowed ? 'block' : 'none';\n",
              "\n",
              "        async function convertToInteractive(key) {\n",
              "          const element = document.querySelector('#df-0c6782d1-2ede-4e29-8ab0-4fc9b3079bce');\n",
              "          const dataTable =\n",
              "            await google.colab.kernel.invokeFunction('convertToInteractive',\n",
              "                                                     [key], {});\n",
              "          if (!dataTable) return;\n",
              "\n",
              "          const docLinkHtml = 'Like what you see? Visit the ' +\n",
              "            '<a target=\"_blank\" href=https://colab.research.google.com/notebooks/data_table.ipynb>data table notebook</a>'\n",
              "            + ' to learn more about interactive tables.';\n",
              "          element.innerHTML = '';\n",
              "          dataTable['output_type'] = 'display_data';\n",
              "          await google.colab.output.renderOutput(dataTable, element);\n",
              "          const docLink = document.createElement('div');\n",
              "          docLink.innerHTML = docLinkHtml;\n",
              "          element.appendChild(docLink);\n",
              "        }\n",
              "      </script>\n",
              "    </div>\n",
              "  </div>\n",
              "  "
            ]
          },
          "metadata": {},
          "execution_count": 6
        }
      ]
    },
    {
      "cell_type": "markdown",
      "source": [
        "---\n",
        "En este caso nuestra llave para unir las dos tablas va a ser placeID.\n",
        "\n",
        "---"
      ],
      "metadata": {
        "id": "2lw86Sdndpbj"
      }
    },
    {
      "cell_type": "code",
      "source": [
        "relacion = pd.merge(dfrating,dfgeoplaces, on ='placeID')\n",
        "relacion.head(5)"
      ],
      "metadata": {
        "colab": {
          "base_uri": "https://localhost:8080/",
          "height": 206
        },
        "id": "Vg9a2Gp5dzXf",
        "outputId": "9430a9b1-898f-4bb7-86d2-1885655d497d"
      },
      "execution_count": 7,
      "outputs": [
        {
          "output_type": "execute_result",
          "data": {
            "text/plain": [
              "  userID  placeID  rating                    name\n",
              "0  U1077   135085       2  Tortas Locas Hipocampo\n",
              "1  U1108   135085       1  Tortas Locas Hipocampo\n",
              "2  U1081   135085       1  Tortas Locas Hipocampo\n",
              "3  U1056   135085       2  Tortas Locas Hipocampo\n",
              "4  U1134   135085       2  Tortas Locas Hipocampo"
            ],
            "text/html": [
              "\n",
              "  <div id=\"df-00b11943-bde7-4510-9573-ec8e4fccc195\">\n",
              "    <div class=\"colab-df-container\">\n",
              "      <div>\n",
              "<style scoped>\n",
              "    .dataframe tbody tr th:only-of-type {\n",
              "        vertical-align: middle;\n",
              "    }\n",
              "\n",
              "    .dataframe tbody tr th {\n",
              "        vertical-align: top;\n",
              "    }\n",
              "\n",
              "    .dataframe thead th {\n",
              "        text-align: right;\n",
              "    }\n",
              "</style>\n",
              "<table border=\"1\" class=\"dataframe\">\n",
              "  <thead>\n",
              "    <tr style=\"text-align: right;\">\n",
              "      <th></th>\n",
              "      <th>userID</th>\n",
              "      <th>placeID</th>\n",
              "      <th>rating</th>\n",
              "      <th>name</th>\n",
              "    </tr>\n",
              "  </thead>\n",
              "  <tbody>\n",
              "    <tr>\n",
              "      <th>0</th>\n",
              "      <td>U1077</td>\n",
              "      <td>135085</td>\n",
              "      <td>2</td>\n",
              "      <td>Tortas Locas Hipocampo</td>\n",
              "    </tr>\n",
              "    <tr>\n",
              "      <th>1</th>\n",
              "      <td>U1108</td>\n",
              "      <td>135085</td>\n",
              "      <td>1</td>\n",
              "      <td>Tortas Locas Hipocampo</td>\n",
              "    </tr>\n",
              "    <tr>\n",
              "      <th>2</th>\n",
              "      <td>U1081</td>\n",
              "      <td>135085</td>\n",
              "      <td>1</td>\n",
              "      <td>Tortas Locas Hipocampo</td>\n",
              "    </tr>\n",
              "    <tr>\n",
              "      <th>3</th>\n",
              "      <td>U1056</td>\n",
              "      <td>135085</td>\n",
              "      <td>2</td>\n",
              "      <td>Tortas Locas Hipocampo</td>\n",
              "    </tr>\n",
              "    <tr>\n",
              "      <th>4</th>\n",
              "      <td>U1134</td>\n",
              "      <td>135085</td>\n",
              "      <td>2</td>\n",
              "      <td>Tortas Locas Hipocampo</td>\n",
              "    </tr>\n",
              "  </tbody>\n",
              "</table>\n",
              "</div>\n",
              "      <button class=\"colab-df-convert\" onclick=\"convertToInteractive('df-00b11943-bde7-4510-9573-ec8e4fccc195')\"\n",
              "              title=\"Convert this dataframe to an interactive table.\"\n",
              "              style=\"display:none;\">\n",
              "        \n",
              "  <svg xmlns=\"http://www.w3.org/2000/svg\" height=\"24px\"viewBox=\"0 0 24 24\"\n",
              "       width=\"24px\">\n",
              "    <path d=\"M0 0h24v24H0V0z\" fill=\"none\"/>\n",
              "    <path d=\"M18.56 5.44l.94 2.06.94-2.06 2.06-.94-2.06-.94-.94-2.06-.94 2.06-2.06.94zm-11 1L8.5 8.5l.94-2.06 2.06-.94-2.06-.94L8.5 2.5l-.94 2.06-2.06.94zm10 10l.94 2.06.94-2.06 2.06-.94-2.06-.94-.94-2.06-.94 2.06-2.06.94z\"/><path d=\"M17.41 7.96l-1.37-1.37c-.4-.4-.92-.59-1.43-.59-.52 0-1.04.2-1.43.59L10.3 9.45l-7.72 7.72c-.78.78-.78 2.05 0 2.83L4 21.41c.39.39.9.59 1.41.59.51 0 1.02-.2 1.41-.59l7.78-7.78 2.81-2.81c.8-.78.8-2.07 0-2.86zM5.41 20L4 18.59l7.72-7.72 1.47 1.35L5.41 20z\"/>\n",
              "  </svg>\n",
              "      </button>\n",
              "      \n",
              "  <style>\n",
              "    .colab-df-container {\n",
              "      display:flex;\n",
              "      flex-wrap:wrap;\n",
              "      gap: 12px;\n",
              "    }\n",
              "\n",
              "    .colab-df-convert {\n",
              "      background-color: #E8F0FE;\n",
              "      border: none;\n",
              "      border-radius: 50%;\n",
              "      cursor: pointer;\n",
              "      display: none;\n",
              "      fill: #1967D2;\n",
              "      height: 32px;\n",
              "      padding: 0 0 0 0;\n",
              "      width: 32px;\n",
              "    }\n",
              "\n",
              "    .colab-df-convert:hover {\n",
              "      background-color: #E2EBFA;\n",
              "      box-shadow: 0px 1px 2px rgba(60, 64, 67, 0.3), 0px 1px 3px 1px rgba(60, 64, 67, 0.15);\n",
              "      fill: #174EA6;\n",
              "    }\n",
              "\n",
              "    [theme=dark] .colab-df-convert {\n",
              "      background-color: #3B4455;\n",
              "      fill: #D2E3FC;\n",
              "    }\n",
              "\n",
              "    [theme=dark] .colab-df-convert:hover {\n",
              "      background-color: #434B5C;\n",
              "      box-shadow: 0px 1px 3px 1px rgba(0, 0, 0, 0.15);\n",
              "      filter: drop-shadow(0px 1px 2px rgba(0, 0, 0, 0.3));\n",
              "      fill: #FFFFFF;\n",
              "    }\n",
              "  </style>\n",
              "\n",
              "      <script>\n",
              "        const buttonEl =\n",
              "          document.querySelector('#df-00b11943-bde7-4510-9573-ec8e4fccc195 button.colab-df-convert');\n",
              "        buttonEl.style.display =\n",
              "          google.colab.kernel.accessAllowed ? 'block' : 'none';\n",
              "\n",
              "        async function convertToInteractive(key) {\n",
              "          const element = document.querySelector('#df-00b11943-bde7-4510-9573-ec8e4fccc195');\n",
              "          const dataTable =\n",
              "            await google.colab.kernel.invokeFunction('convertToInteractive',\n",
              "                                                     [key], {});\n",
              "          if (!dataTable) return;\n",
              "\n",
              "          const docLinkHtml = 'Like what you see? Visit the ' +\n",
              "            '<a target=\"_blank\" href=https://colab.research.google.com/notebooks/data_table.ipynb>data table notebook</a>'\n",
              "            + ' to learn more about interactive tables.';\n",
              "          element.innerHTML = '';\n",
              "          dataTable['output_type'] = 'display_data';\n",
              "          await google.colab.output.renderOutput(dataTable, element);\n",
              "          const docLink = document.createElement('div');\n",
              "          docLink.innerHTML = docLinkHtml;\n",
              "          element.appendChild(docLink);\n",
              "        }\n",
              "      </script>\n",
              "    </div>\n",
              "  </div>\n",
              "  "
            ]
          },
          "metadata": {},
          "execution_count": 7
        }
      ]
    },
    {
      "cell_type": "markdown",
      "source": [
        "---\n",
        "Finalmente vamos a dejar solo las columnas que necesitamos y desplegaremos nuestra matriz de utilidad.\n",
        "\n",
        "---"
      ],
      "metadata": {
        "id": "c3IAicSkeaNq"
      }
    },
    {
      "cell_type": "code",
      "source": [
        "UtMx = relacion.pivot_table(values='rating', index='userID', columns='name', fill_value=0)\n",
        "print(\"El tamaño de nuestra matriz de utilidad es: \",UtMx.shape)\n",
        "UtMx.head(10)"
      ],
      "metadata": {
        "id": "CJpB_SAdfTQ8",
        "colab": {
          "base_uri": "https://localhost:8080/",
          "height": 574
        },
        "outputId": "0aecba89-e34f-4e0b-f72d-4793dd4b5fc1"
      },
      "execution_count": 8,
      "outputs": [
        {
          "output_type": "stream",
          "name": "stdout",
          "text": [
            "El tamaño de nuestra matriz de utilidad es:  (138, 129)\n"
          ]
        },
        {
          "output_type": "execute_result",
          "data": {
            "text/plain": [
              "name    Abondance Restaurante Bar  Arrachela Grill  Cabana Huasteca  \\\n",
              "userID                                                                \n",
              "U1001                           0                0                0   \n",
              "U1002                           0                0                0   \n",
              "U1003                           0                0                2   \n",
              "U1004                           0                0                0   \n",
              "U1005                           0                0                0   \n",
              "U1006                           0                0                0   \n",
              "U1007                           0                0                0   \n",
              "U1008                           1                0                0   \n",
              "U1009                           0                0                1   \n",
              "U1010                           0                0                0   \n",
              "\n",
              "name    Cafe Chaires  Cafeteria cenidet  Cafeteria y Restaurant El Pacifico  \\\n",
              "userID                                                                        \n",
              "U1001              0                  0                                   0   \n",
              "U1002              0                  0                                   0   \n",
              "U1003              0                  0                                   0   \n",
              "U1004              0                  0                                   2   \n",
              "U1005              0                  0                                   2   \n",
              "U1006              1                  0                                   0   \n",
              "U1007              1                  0                                   1   \n",
              "U1008              0                  0                                   0   \n",
              "U1009              0                  0                                   0   \n",
              "U1010              0                  0                                   0   \n",
              "\n",
              "name    Carls Jr  Carnitas Mata  Calle 16 de Septiembre  \\\n",
              "userID                                                    \n",
              "U1001          0                                      0   \n",
              "U1002          0                                      0   \n",
              "U1003          0                                      0   \n",
              "U1004          0                                      0   \n",
              "U1005          0                                      0   \n",
              "U1006          0                                      0   \n",
              "U1007          0                                      0   \n",
              "U1008          0                                      0   \n",
              "U1009          0                                      0   \n",
              "U1010          0                                      0   \n",
              "\n",
              "name    Carreton de Flautas y Migadas  Cenaduria El RincÃ³n de Tlaquepaque  \\\n",
              "userID                                                                       \n",
              "U1001                               0                                    0   \n",
              "U1002                               0                                    0   \n",
              "U1003                               0                                    0   \n",
              "U1004                               0                                    0   \n",
              "U1005                               0                                    0   \n",
              "U1006                               0                                    0   \n",
              "U1007                               0                                    0   \n",
              "U1008                               0                                    0   \n",
              "U1009                               0                                    0   \n",
              "U1010                               0                                    0   \n",
              "\n",
              "name    ...  puesto de tacos  rockabilly   shi ro ie  sirloin stockade  \\\n",
              "userID  ...                                                              \n",
              "U1001   ...                2            0          0                 0   \n",
              "U1002   ...                2            0          0                 0   \n",
              "U1003   ...                2            2          0                 0   \n",
              "U1004   ...                0            0          0                 0   \n",
              "U1005   ...                0            0          0                 0   \n",
              "U1006   ...                1            0          2                 0   \n",
              "U1007   ...                0            0          0                 0   \n",
              "U1008   ...                0            0          0                 0   \n",
              "U1009   ...                1            0          0                 0   \n",
              "U1010   ...                0            0          0                 0   \n",
              "\n",
              "name    tacos abi  tacos de barbacoa enfrente del Tec  tacos de la estacion  \\\n",
              "userID                                                                        \n",
              "U1001           0                                   0                     0   \n",
              "U1002           0                                   0                     0   \n",
              "U1003           0                                   0                     0   \n",
              "U1004           0                                   0                     0   \n",
              "U1005           0                                   0                     0   \n",
              "U1006           0                                   0                     0   \n",
              "U1007           0                                   0                     0   \n",
              "U1008           0                                   0                     0   \n",
              "U1009           0                                   0                     0   \n",
              "U1010           0                                   0                     0   \n",
              "\n",
              "name    tacos los volcanes  tortas hawai  vips  \n",
              "userID                                          \n",
              "U1001                    0             0     0  \n",
              "U1002                    0             0     0  \n",
              "U1003                    0             0     0  \n",
              "U1004                    2             0     0  \n",
              "U1005                    0             0     0  \n",
              "U1006                    0             0     0  \n",
              "U1007                    0             0     0  \n",
              "U1008                    0             0     0  \n",
              "U1009                    0             0     0  \n",
              "U1010                    0             0     0  \n",
              "\n",
              "[10 rows x 129 columns]"
            ],
            "text/html": [
              "\n",
              "  <div id=\"df-2eb833ae-2a54-4480-a040-eb40dab18293\">\n",
              "    <div class=\"colab-df-container\">\n",
              "      <div>\n",
              "<style scoped>\n",
              "    .dataframe tbody tr th:only-of-type {\n",
              "        vertical-align: middle;\n",
              "    }\n",
              "\n",
              "    .dataframe tbody tr th {\n",
              "        vertical-align: top;\n",
              "    }\n",
              "\n",
              "    .dataframe thead th {\n",
              "        text-align: right;\n",
              "    }\n",
              "</style>\n",
              "<table border=\"1\" class=\"dataframe\">\n",
              "  <thead>\n",
              "    <tr style=\"text-align: right;\">\n",
              "      <th>name</th>\n",
              "      <th>Abondance Restaurante Bar</th>\n",
              "      <th>Arrachela Grill</th>\n",
              "      <th>Cabana Huasteca</th>\n",
              "      <th>Cafe Chaires</th>\n",
              "      <th>Cafeteria cenidet</th>\n",
              "      <th>Cafeteria y Restaurant El Pacifico</th>\n",
              "      <th>Carls Jr</th>\n",
              "      <th>Carnitas Mata  Calle 16 de Septiembre</th>\n",
              "      <th>Carreton de Flautas y Migadas</th>\n",
              "      <th>Cenaduria El RincÃ³n de Tlaquepaque</th>\n",
              "      <th>...</th>\n",
              "      <th>puesto de tacos</th>\n",
              "      <th>rockabilly</th>\n",
              "      <th>shi ro ie</th>\n",
              "      <th>sirloin stockade</th>\n",
              "      <th>tacos abi</th>\n",
              "      <th>tacos de barbacoa enfrente del Tec</th>\n",
              "      <th>tacos de la estacion</th>\n",
              "      <th>tacos los volcanes</th>\n",
              "      <th>tortas hawai</th>\n",
              "      <th>vips</th>\n",
              "    </tr>\n",
              "    <tr>\n",
              "      <th>userID</th>\n",
              "      <th></th>\n",
              "      <th></th>\n",
              "      <th></th>\n",
              "      <th></th>\n",
              "      <th></th>\n",
              "      <th></th>\n",
              "      <th></th>\n",
              "      <th></th>\n",
              "      <th></th>\n",
              "      <th></th>\n",
              "      <th></th>\n",
              "      <th></th>\n",
              "      <th></th>\n",
              "      <th></th>\n",
              "      <th></th>\n",
              "      <th></th>\n",
              "      <th></th>\n",
              "      <th></th>\n",
              "      <th></th>\n",
              "      <th></th>\n",
              "      <th></th>\n",
              "    </tr>\n",
              "  </thead>\n",
              "  <tbody>\n",
              "    <tr>\n",
              "      <th>U1001</th>\n",
              "      <td>0</td>\n",
              "      <td>0</td>\n",
              "      <td>0</td>\n",
              "      <td>0</td>\n",
              "      <td>0</td>\n",
              "      <td>0</td>\n",
              "      <td>0</td>\n",
              "      <td>0</td>\n",
              "      <td>0</td>\n",
              "      <td>0</td>\n",
              "      <td>...</td>\n",
              "      <td>2</td>\n",
              "      <td>0</td>\n",
              "      <td>0</td>\n",
              "      <td>0</td>\n",
              "      <td>0</td>\n",
              "      <td>0</td>\n",
              "      <td>0</td>\n",
              "      <td>0</td>\n",
              "      <td>0</td>\n",
              "      <td>0</td>\n",
              "    </tr>\n",
              "    <tr>\n",
              "      <th>U1002</th>\n",
              "      <td>0</td>\n",
              "      <td>0</td>\n",
              "      <td>0</td>\n",
              "      <td>0</td>\n",
              "      <td>0</td>\n",
              "      <td>0</td>\n",
              "      <td>0</td>\n",
              "      <td>0</td>\n",
              "      <td>0</td>\n",
              "      <td>0</td>\n",
              "      <td>...</td>\n",
              "      <td>2</td>\n",
              "      <td>0</td>\n",
              "      <td>0</td>\n",
              "      <td>0</td>\n",
              "      <td>0</td>\n",
              "      <td>0</td>\n",
              "      <td>0</td>\n",
              "      <td>0</td>\n",
              "      <td>0</td>\n",
              "      <td>0</td>\n",
              "    </tr>\n",
              "    <tr>\n",
              "      <th>U1003</th>\n",
              "      <td>0</td>\n",
              "      <td>0</td>\n",
              "      <td>2</td>\n",
              "      <td>0</td>\n",
              "      <td>0</td>\n",
              "      <td>0</td>\n",
              "      <td>0</td>\n",
              "      <td>0</td>\n",
              "      <td>0</td>\n",
              "      <td>0</td>\n",
              "      <td>...</td>\n",
              "      <td>2</td>\n",
              "      <td>2</td>\n",
              "      <td>0</td>\n",
              "      <td>0</td>\n",
              "      <td>0</td>\n",
              "      <td>0</td>\n",
              "      <td>0</td>\n",
              "      <td>0</td>\n",
              "      <td>0</td>\n",
              "      <td>0</td>\n",
              "    </tr>\n",
              "    <tr>\n",
              "      <th>U1004</th>\n",
              "      <td>0</td>\n",
              "      <td>0</td>\n",
              "      <td>0</td>\n",
              "      <td>0</td>\n",
              "      <td>0</td>\n",
              "      <td>2</td>\n",
              "      <td>0</td>\n",
              "      <td>0</td>\n",
              "      <td>0</td>\n",
              "      <td>0</td>\n",
              "      <td>...</td>\n",
              "      <td>0</td>\n",
              "      <td>0</td>\n",
              "      <td>0</td>\n",
              "      <td>0</td>\n",
              "      <td>0</td>\n",
              "      <td>0</td>\n",
              "      <td>0</td>\n",
              "      <td>2</td>\n",
              "      <td>0</td>\n",
              "      <td>0</td>\n",
              "    </tr>\n",
              "    <tr>\n",
              "      <th>U1005</th>\n",
              "      <td>0</td>\n",
              "      <td>0</td>\n",
              "      <td>0</td>\n",
              "      <td>0</td>\n",
              "      <td>0</td>\n",
              "      <td>2</td>\n",
              "      <td>0</td>\n",
              "      <td>0</td>\n",
              "      <td>0</td>\n",
              "      <td>0</td>\n",
              "      <td>...</td>\n",
              "      <td>0</td>\n",
              "      <td>0</td>\n",
              "      <td>0</td>\n",
              "      <td>0</td>\n",
              "      <td>0</td>\n",
              "      <td>0</td>\n",
              "      <td>0</td>\n",
              "      <td>0</td>\n",
              "      <td>0</td>\n",
              "      <td>0</td>\n",
              "    </tr>\n",
              "    <tr>\n",
              "      <th>U1006</th>\n",
              "      <td>0</td>\n",
              "      <td>0</td>\n",
              "      <td>0</td>\n",
              "      <td>1</td>\n",
              "      <td>0</td>\n",
              "      <td>0</td>\n",
              "      <td>0</td>\n",
              "      <td>0</td>\n",
              "      <td>0</td>\n",
              "      <td>0</td>\n",
              "      <td>...</td>\n",
              "      <td>1</td>\n",
              "      <td>0</td>\n",
              "      <td>2</td>\n",
              "      <td>0</td>\n",
              "      <td>0</td>\n",
              "      <td>0</td>\n",
              "      <td>0</td>\n",
              "      <td>0</td>\n",
              "      <td>0</td>\n",
              "      <td>0</td>\n",
              "    </tr>\n",
              "    <tr>\n",
              "      <th>U1007</th>\n",
              "      <td>0</td>\n",
              "      <td>0</td>\n",
              "      <td>0</td>\n",
              "      <td>1</td>\n",
              "      <td>0</td>\n",
              "      <td>1</td>\n",
              "      <td>0</td>\n",
              "      <td>0</td>\n",
              "      <td>0</td>\n",
              "      <td>0</td>\n",
              "      <td>...</td>\n",
              "      <td>0</td>\n",
              "      <td>0</td>\n",
              "      <td>0</td>\n",
              "      <td>0</td>\n",
              "      <td>0</td>\n",
              "      <td>0</td>\n",
              "      <td>0</td>\n",
              "      <td>0</td>\n",
              "      <td>0</td>\n",
              "      <td>0</td>\n",
              "    </tr>\n",
              "    <tr>\n",
              "      <th>U1008</th>\n",
              "      <td>1</td>\n",
              "      <td>0</td>\n",
              "      <td>0</td>\n",
              "      <td>0</td>\n",
              "      <td>0</td>\n",
              "      <td>0</td>\n",
              "      <td>0</td>\n",
              "      <td>0</td>\n",
              "      <td>0</td>\n",
              "      <td>0</td>\n",
              "      <td>...</td>\n",
              "      <td>0</td>\n",
              "      <td>0</td>\n",
              "      <td>0</td>\n",
              "      <td>0</td>\n",
              "      <td>0</td>\n",
              "      <td>0</td>\n",
              "      <td>0</td>\n",
              "      <td>0</td>\n",
              "      <td>0</td>\n",
              "      <td>0</td>\n",
              "    </tr>\n",
              "    <tr>\n",
              "      <th>U1009</th>\n",
              "      <td>0</td>\n",
              "      <td>0</td>\n",
              "      <td>1</td>\n",
              "      <td>0</td>\n",
              "      <td>0</td>\n",
              "      <td>0</td>\n",
              "      <td>0</td>\n",
              "      <td>0</td>\n",
              "      <td>0</td>\n",
              "      <td>0</td>\n",
              "      <td>...</td>\n",
              "      <td>1</td>\n",
              "      <td>0</td>\n",
              "      <td>0</td>\n",
              "      <td>0</td>\n",
              "      <td>0</td>\n",
              "      <td>0</td>\n",
              "      <td>0</td>\n",
              "      <td>0</td>\n",
              "      <td>0</td>\n",
              "      <td>0</td>\n",
              "    </tr>\n",
              "    <tr>\n",
              "      <th>U1010</th>\n",
              "      <td>0</td>\n",
              "      <td>0</td>\n",
              "      <td>0</td>\n",
              "      <td>0</td>\n",
              "      <td>0</td>\n",
              "      <td>0</td>\n",
              "      <td>0</td>\n",
              "      <td>0</td>\n",
              "      <td>0</td>\n",
              "      <td>0</td>\n",
              "      <td>...</td>\n",
              "      <td>0</td>\n",
              "      <td>0</td>\n",
              "      <td>0</td>\n",
              "      <td>0</td>\n",
              "      <td>0</td>\n",
              "      <td>0</td>\n",
              "      <td>0</td>\n",
              "      <td>0</td>\n",
              "      <td>0</td>\n",
              "      <td>0</td>\n",
              "    </tr>\n",
              "  </tbody>\n",
              "</table>\n",
              "<p>10 rows × 129 columns</p>\n",
              "</div>\n",
              "      <button class=\"colab-df-convert\" onclick=\"convertToInteractive('df-2eb833ae-2a54-4480-a040-eb40dab18293')\"\n",
              "              title=\"Convert this dataframe to an interactive table.\"\n",
              "              style=\"display:none;\">\n",
              "        \n",
              "  <svg xmlns=\"http://www.w3.org/2000/svg\" height=\"24px\"viewBox=\"0 0 24 24\"\n",
              "       width=\"24px\">\n",
              "    <path d=\"M0 0h24v24H0V0z\" fill=\"none\"/>\n",
              "    <path d=\"M18.56 5.44l.94 2.06.94-2.06 2.06-.94-2.06-.94-.94-2.06-.94 2.06-2.06.94zm-11 1L8.5 8.5l.94-2.06 2.06-.94-2.06-.94L8.5 2.5l-.94 2.06-2.06.94zm10 10l.94 2.06.94-2.06 2.06-.94-2.06-.94-.94-2.06-.94 2.06-2.06.94z\"/><path d=\"M17.41 7.96l-1.37-1.37c-.4-.4-.92-.59-1.43-.59-.52 0-1.04.2-1.43.59L10.3 9.45l-7.72 7.72c-.78.78-.78 2.05 0 2.83L4 21.41c.39.39.9.59 1.41.59.51 0 1.02-.2 1.41-.59l7.78-7.78 2.81-2.81c.8-.78.8-2.07 0-2.86zM5.41 20L4 18.59l7.72-7.72 1.47 1.35L5.41 20z\"/>\n",
              "  </svg>\n",
              "      </button>\n",
              "      \n",
              "  <style>\n",
              "    .colab-df-container {\n",
              "      display:flex;\n",
              "      flex-wrap:wrap;\n",
              "      gap: 12px;\n",
              "    }\n",
              "\n",
              "    .colab-df-convert {\n",
              "      background-color: #E8F0FE;\n",
              "      border: none;\n",
              "      border-radius: 50%;\n",
              "      cursor: pointer;\n",
              "      display: none;\n",
              "      fill: #1967D2;\n",
              "      height: 32px;\n",
              "      padding: 0 0 0 0;\n",
              "      width: 32px;\n",
              "    }\n",
              "\n",
              "    .colab-df-convert:hover {\n",
              "      background-color: #E2EBFA;\n",
              "      box-shadow: 0px 1px 2px rgba(60, 64, 67, 0.3), 0px 1px 3px 1px rgba(60, 64, 67, 0.15);\n",
              "      fill: #174EA6;\n",
              "    }\n",
              "\n",
              "    [theme=dark] .colab-df-convert {\n",
              "      background-color: #3B4455;\n",
              "      fill: #D2E3FC;\n",
              "    }\n",
              "\n",
              "    [theme=dark] .colab-df-convert:hover {\n",
              "      background-color: #434B5C;\n",
              "      box-shadow: 0px 1px 3px 1px rgba(0, 0, 0, 0.15);\n",
              "      filter: drop-shadow(0px 1px 2px rgba(0, 0, 0, 0.3));\n",
              "      fill: #FFFFFF;\n",
              "    }\n",
              "  </style>\n",
              "\n",
              "      <script>\n",
              "        const buttonEl =\n",
              "          document.querySelector('#df-2eb833ae-2a54-4480-a040-eb40dab18293 button.colab-df-convert');\n",
              "        buttonEl.style.display =\n",
              "          google.colab.kernel.accessAllowed ? 'block' : 'none';\n",
              "\n",
              "        async function convertToInteractive(key) {\n",
              "          const element = document.querySelector('#df-2eb833ae-2a54-4480-a040-eb40dab18293');\n",
              "          const dataTable =\n",
              "            await google.colab.kernel.invokeFunction('convertToInteractive',\n",
              "                                                     [key], {});\n",
              "          if (!dataTable) return;\n",
              "\n",
              "          const docLinkHtml = 'Like what you see? Visit the ' +\n",
              "            '<a target=\"_blank\" href=https://colab.research.google.com/notebooks/data_table.ipynb>data table notebook</a>'\n",
              "            + ' to learn more about interactive tables.';\n",
              "          element.innerHTML = '';\n",
              "          dataTable['output_type'] = 'display_data';\n",
              "          await google.colab.output.renderOutput(dataTable, element);\n",
              "          const docLink = document.createElement('div');\n",
              "          docLink.innerHTML = docLinkHtml;\n",
              "          element.appendChild(docLink);\n",
              "        }\n",
              "      </script>\n",
              "    </div>\n",
              "  </div>\n",
              "  "
            ]
          },
          "metadata": {},
          "execution_count": 8
        }
      ]
    },
    {
      "cell_type": "markdown",
      "source": [
        "## **Ejercicio 2**"
      ],
      "metadata": {
        "id": "dLerVDaat9VQ"
      }
    },
    {
      "cell_type": "markdown",
      "source": [
        "---\n",
        "Con el objetivo de obtener la información con respecto a los vectores latentes de los restaurantes, obtener dicha factorización SVD utilizando todas las componentes posibles, es decir, usando todos sus valores singulares. En particular indica la cantidad de valores singulares obtenidos. \n",
        "\n",
        "---"
      ],
      "metadata": {
        "id": "7YYwG0FnuK8G"
      }
    },
    {
      "cell_type": "code",
      "source": [
        "X = UtMx.T\n",
        "X.shape"
      ],
      "metadata": {
        "colab": {
          "base_uri": "https://localhost:8080/"
        },
        "id": "gumJb7_AgNPi",
        "outputId": "056f91c5-f9b1-4e42-c211-8a398dc542d8"
      },
      "execution_count": 9,
      "outputs": [
        {
          "output_type": "execute_result",
          "data": {
            "text/plain": [
              "(129, 138)"
            ]
          },
          "metadata": {},
          "execution_count": 9
        }
      ]
    },
    {
      "cell_type": "code",
      "source": [
        "num_sv = 137\n",
        "\n",
        "SVD = TruncatedSVD(n_components=num_sv, random_state=1)\n",
        "\n",
        "resultant_matrix = SVD.fit_transform(X)\n",
        "resultant_matrix.shape"
      ],
      "metadata": {
        "colab": {
          "base_uri": "https://localhost:8080/"
        },
        "id": "4ZHFDrBmgKPG",
        "outputId": "26c66e1b-0663-4df6-e659-e0813111eccb"
      },
      "execution_count": 10,
      "outputs": [
        {
          "output_type": "execute_result",
          "data": {
            "text/plain": [
              "(129, 129)"
            ]
          },
          "metadata": {},
          "execution_count": 10
        }
      ]
    },
    {
      "cell_type": "markdown",
      "source": [
        "## **Ejercicio 3**"
      ],
      "metadata": {
        "id": "gwMiX2oPuBWz"
      }
    },
    {
      "cell_type": "markdown",
      "source": [
        "---\n",
        "Usando la métrica de correlación de Pearon, obtener las 10 mejores recomendaciones de este modelo no supervisado con base a la información de alguien que evaluó bien de manera general al “Subway”. Despliega también el valor numérico de la correlación de Pearson de cada una de estas 10 recomendaciones. ***NOTA: No debe estar incluido “Subway” dentro de las recomendaciones.***\n",
        "\n",
        "---"
      ],
      "metadata": {
        "id": "mlMggRBsuR-Z"
      }
    },
    {
      "cell_type": "code",
      "source": [
        "corrMx = np.corrcoef(resultant_matrix, )\n",
        "corrMx.shape"
      ],
      "metadata": {
        "id": "JGYHl2OvuZDl",
        "colab": {
          "base_uri": "https://localhost:8080/"
        },
        "outputId": "4c9e2e72-c2f1-4f62-bf7f-7b279fe89f17"
      },
      "execution_count": 11,
      "outputs": [
        {
          "output_type": "execute_result",
          "data": {
            "text/plain": [
              "(129, 129)"
            ]
          },
          "metadata": {},
          "execution_count": 11
        }
      ]
    },
    {
      "cell_type": "code",
      "source": [
        "me_gusta = \"Subway\"\n",
        "\n",
        "names = UtMx.columns\n",
        "names_list = list(names)\n",
        "id_megusta = names_list.index(me_gusta)\n",
        "\n",
        "id_megusta"
      ],
      "metadata": {
        "id": "7TL6uXHpLltw",
        "colab": {
          "base_uri": "https://localhost:8080/"
        },
        "outputId": "5412c0f9-69a7-4d55-e932-63e0e0bff380"
      },
      "execution_count": 12,
      "outputs": [
        {
          "output_type": "execute_result",
          "data": {
            "text/plain": [
              "88"
            ]
          },
          "metadata": {},
          "execution_count": 12
        }
      ]
    },
    {
      "cell_type": "code",
      "source": [
        "corr_recomienda = corrMx[id_megusta]\n",
        "print(corr_recomienda)"
      ],
      "metadata": {
        "id": "dTO_FbXULmHA",
        "colab": {
          "base_uri": "https://localhost:8080/"
        },
        "outputId": "c9fd9188-94df-4e76-8ddc-b6094c8eaaf0"
      },
      "execution_count": 13,
      "outputs": [
        {
          "output_type": "stream",
          "name": "stdout",
          "text": [
            "[-7.69028369e-04 -7.87822168e-05 -5.27330975e-03  8.58511349e-04\n",
            " -3.03891148e-03  3.97495832e-05 -1.54820208e-03 -5.29347145e-03\n",
            "  7.27520383e-04 -1.55098452e-03 -1.84483094e-03  3.01090491e-01\n",
            " -3.06938616e-05 -3.66639157e-03 -2.28024815e-03 -1.70971180e-03\n",
            "  2.66961340e-03  4.58467365e-04 -2.11449533e-03 -6.20445134e-03\n",
            "  3.34268563e-03  1.16598607e-01  1.87080102e-03  2.53682556e-03\n",
            " -5.48801141e-03 -2.91288266e-03  2.02825342e-03 -1.36607265e-03\n",
            " -2.01695899e-03  1.12058244e-01 -2.36235727e-03  6.52159239e-04\n",
            "  3.53495770e-03 -3.62793330e-03  1.69065407e-03 -4.51837401e-03\n",
            " -2.09301342e-03  2.34634298e-01 -3.80413494e-03 -5.11845710e-04\n",
            " -2.27148704e-03  3.88178002e-01 -2.07427108e-03 -2.29428835e-03\n",
            "  1.32565455e-03  3.01002479e-01  1.71433518e-01 -3.29715354e-03\n",
            " -4.74480596e-03 -8.02527884e-04 -2.65071452e-03  1.12018889e-01\n",
            " -3.91080724e-03 -2.06369812e-03  1.16008629e-01  2.27855804e-01\n",
            "  4.28342495e-04 -8.69739761e-04  6.09520875e-01 -6.43364064e-03\n",
            "  4.25467169e-01 -2.27256171e-03  4.45920939e-05  5.11279379e-04\n",
            "  2.85149220e-01 -1.90010302e-03 -4.16115194e-03 -5.61375368e-03\n",
            " -2.57693978e-03 -3.72881676e-03 -6.05992942e-03  1.41047150e-03\n",
            " -1.58675476e-04 -1.94116490e-03  2.09955125e-03 -2.10171395e-03\n",
            " -4.38985616e-03 -2.29468299e-03  7.76009788e-04 -2.96124143e-03\n",
            " -2.82046690e-03 -8.57374506e-04 -1.50259308e-03 -3.19597534e-03\n",
            " -2.56400020e-03  4.29823831e-01  4.17218501e-01  3.89064434e-03\n",
            "  1.00000000e+00 -9.93812832e-04  8.60361345e-04 -2.79531559e-03\n",
            "  2.37442956e-04 -3.06216758e-03  1.36462717e-03  2.66480676e-04\n",
            "  2.92661192e-03  5.06277680e-01 -3.20853148e-03 -8.36332065e-04\n",
            " -3.72003822e-03  1.60652886e-03 -1.25997089e-03 -2.57629937e-03\n",
            "  1.70432198e-03 -2.43624453e-03 -1.13863819e-03  1.91200064e-03\n",
            " -3.57766463e-03 -2.41086958e-03 -8.60077590e-03  3.33763511e-03\n",
            "  3.00375655e-03  2.47765536e-03  1.38274830e-03 -1.59646437e-05\n",
            " -8.37066511e-04 -1.73990894e-03 -1.20344221e-03 -3.56656608e-03\n",
            " -2.38089550e-03 -4.91396372e-06 -3.20025066e-03  1.81536303e-03\n",
            "  2.45429531e-03 -2.56625850e-03 -2.88100273e-03 -1.91214767e-03\n",
            "  8.37828947e-04]\n"
          ]
        }
      ]
    },
    {
      "cell_type": "code",
      "source": [
        "list(names[np.argsort(corr_recomienda)][-11:-1])"
      ],
      "metadata": {
        "id": "5uit876vLmfO",
        "colab": {
          "base_uri": "https://localhost:8080/"
        },
        "outputId": "96d5b653-4e77-444d-d8a6-3a4f46ec9666"
      },
      "execution_count": 14,
      "outputs": [
        {
          "output_type": "execute_result",
          "data": {
            "text/plain": [
              "['Log Yin',\n",
              " 'Restaurant los Pinos',\n",
              " 'Mikasa',\n",
              " 'Chilis Cuernavaca',\n",
              " 'Mariscos Tia Licha',\n",
              " 'Sanborns Casa Piedra',\n",
              " 'Restaurant and Bar and Clothesline Carlos N Charlies',\n",
              " 'Rincon del Bife',\n",
              " 'Vips',\n",
              " 'Restaurant Teely']"
            ]
          },
          "metadata": {},
          "execution_count": 14
        }
      ]
    },
    {
      "cell_type": "markdown",
      "source": [
        "## **Ejercicio 4**"
      ],
      "metadata": {
        "id": "1r45l5iSuCw6"
      }
    },
    {
      "cell_type": "markdown",
      "source": [
        "---\n",
        "Disminuye ahora la dimensión de la factorización con un número de componentes tal, que las recomendaciones con esta menor cantidad de información coincidan en al menos 9 de las 10 recomendaciones dadas con todos los valores singulares. Indica la cantidad de valores singulares encontrado y la cantidad de información que contienen. \n",
        "\n",
        "---"
      ],
      "metadata": {
        "id": "1WDEW0stua6r"
      }
    },
    {
      "cell_type": "code",
      "source": [
        "X2 = UtMx.T\n",
        "X2.shape"
      ],
      "metadata": {
        "id": "OcTK9bQnue8L",
        "colab": {
          "base_uri": "https://localhost:8080/"
        },
        "outputId": "6a0cf4f8-5e47-49cc-dac5-711635c0c76b"
      },
      "execution_count": 15,
      "outputs": [
        {
          "output_type": "execute_result",
          "data": {
            "text/plain": [
              "(129, 138)"
            ]
          },
          "metadata": {},
          "execution_count": 15
        }
      ]
    },
    {
      "cell_type": "code",
      "source": [
        "SVD2 = TruncatedSVD(n_components=137, random_state=1)  \n",
        "SVD2.fit(X2)\n",
        "\n",
        "num_sv2 = 5\n",
        "\n",
        "print('Cantidad de información simplificada con los primeros %d vectores singulares:' % num_sv2)\n",
        "print('%.1f%%' %  (100 * (1- (SVD2.singular_values_[0:num_sv2]).sum() / (SVD2.singular_values_).sum())))"
      ],
      "metadata": {
        "colab": {
          "base_uri": "https://localhost:8080/"
        },
        "id": "m6D_m4-mk2zw",
        "outputId": "9c4041d1-a05e-4260-a4bf-56164bca80cb"
      },
      "execution_count": 16,
      "outputs": [
        {
          "output_type": "stream",
          "name": "stdout",
          "text": [
            "Cantidad de información simplificada con los primeros 5 vectores singulares:\n",
            "85.5%\n"
          ]
        }
      ]
    },
    {
      "cell_type": "code",
      "source": [
        "num_sv2 = 5\n",
        "\n",
        "SVD2 = TruncatedSVD(n_components=num_sv2, random_state=1)\n",
        "\n",
        "resultant_matrix2 = SVD2.fit_transform(X2)\n",
        "resultant_matrix2.shape"
      ],
      "metadata": {
        "colab": {
          "base_uri": "https://localhost:8080/"
        },
        "id": "PvmBE0guqIQi",
        "outputId": "4d6e840b-5881-4507-edb6-7db2dfda294a"
      },
      "execution_count": 17,
      "outputs": [
        {
          "output_type": "execute_result",
          "data": {
            "text/plain": [
              "(129, 5)"
            ]
          },
          "metadata": {},
          "execution_count": 17
        }
      ]
    },
    {
      "cell_type": "code",
      "source": [
        "corrMx2 = np.corrcoef(resultant_matrix2, )\n",
        "corrMx2.shape"
      ],
      "metadata": {
        "colab": {
          "base_uri": "https://localhost:8080/"
        },
        "id": "Vvhj9SYTvQxS",
        "outputId": "ee973bb7-9396-4362-8710-8a9821ee5751"
      },
      "execution_count": 18,
      "outputs": [
        {
          "output_type": "execute_result",
          "data": {
            "text/plain": [
              "(129, 129)"
            ]
          },
          "metadata": {},
          "execution_count": 18
        }
      ]
    },
    {
      "cell_type": "code",
      "source": [
        "me_gusta2 = \"Subway\"\n",
        "\n",
        "names2 = UtMx.columns\n",
        "names_list2 = list(names2)\n",
        "id_megusta2 = names_list2.index(me_gusta2)\n",
        "\n",
        "id_megusta2"
      ],
      "metadata": {
        "colab": {
          "base_uri": "https://localhost:8080/"
        },
        "id": "tZ4EoLgOvpyE",
        "outputId": "0a96dbd3-212f-4631-c2e7-fcb2b557bfbe"
      },
      "execution_count": 19,
      "outputs": [
        {
          "output_type": "execute_result",
          "data": {
            "text/plain": [
              "88"
            ]
          },
          "metadata": {},
          "execution_count": 19
        }
      ]
    },
    {
      "cell_type": "code",
      "source": [
        "corr_recomienda2 = corrMx2[id_megusta2]\n",
        "print(corr_recomienda2)"
      ],
      "metadata": {
        "colab": {
          "base_uri": "https://localhost:8080/"
        },
        "id": "jh9qxNdwv9LT",
        "outputId": "ddc5c13e-e46d-4511-ca2e-a500a0b94e78"
      },
      "execution_count": 20,
      "outputs": [
        {
          "output_type": "stream",
          "name": "stdout",
          "text": [
            "[-0.22010451  0.9998414  -0.4533829  -0.19965743  0.99999333 -0.09249159\n",
            " -0.51567461  0.80880927  0.84303356 -0.11783396 -0.25438167  0.99999956\n",
            " -0.12534878 -0.279942   -0.14332764 -0.4809148   0.99997557  0.00228842\n",
            "  0.03311614 -0.74821096  0.99995328  0.9999897  -0.37481021 -0.31008109\n",
            "  0.83104021  0.83984531 -0.14650029 -0.38719195 -0.12274497  0.9999897\n",
            " -0.58710145  0.06999937 -0.38281662 -0.74505902 -0.21946456 -0.26738518\n",
            "  0.8377747   0.99999768  0.99999297 -0.07651822 -0.31384729  0.99999961\n",
            "  0.99999376 -0.34781704 -0.34751718  0.99999936  0.99999963 -0.65750426\n",
            "  0.83713156 -0.06661794 -0.32539095  0.99999228 -0.30224613  0.11486574\n",
            "  0.99999079  0.99999413 -0.30667786  0.05664052  0.99999977 -0.38749889\n",
            "  0.99999939 -0.08133972 -0.10470881  0.16412164  0.99999146 -0.23095414\n",
            " -0.07533652  0.09447888 -0.19035737 -0.19338679 -0.60723812 -0.17213216\n",
            " -0.39520686 -0.38968384 -0.04037689 -0.41128509 -0.9750213   0.05531435\n",
            " -0.60259975 -0.19596584 -0.37377694 -0.04426775 -0.40291114 -0.05722413\n",
            " -0.31419173  0.99999999  0.99999533 -0.1477576   1.         -0.45403108\n",
            "  0.77801317  0.84034863  0.84249058 -0.24809077 -0.19797457  0.01383267\n",
            " -0.39710939  0.99999861  0.79123366 -0.12228971  0.83217934  0.84315509\n",
            "  0.83477676 -0.3835671  -0.40024158 -0.23695982 -0.24150789  0.03403772\n",
            " -0.31230907 -0.35376104 -0.90551628 -0.10163215 -0.20579364  0.77639389\n",
            "  0.83928182 -0.34841871  0.84289309 -0.44317049  0.83840597 -0.16556014\n",
            " -0.20079438 -0.33452971 -0.23263353  0.84194935  0.84189183  0.83998509\n",
            " -0.29949113  0.83837873  0.83933869]\n"
          ]
        }
      ]
    },
    {
      "cell_type": "code",
      "source": [
        "list(names2[np.argsort(corr_recomienda2)][-11:-1])"
      ],
      "metadata": {
        "colab": {
          "base_uri": "https://localhost:8080/"
        },
        "id": "9eLQvOOZwBmK",
        "outputId": "53b51331-b1a5-4d76-f8f9-8e2e0d6e80b3"
      },
      "execution_count": 21,
      "outputs": [
        {
          "output_type": "execute_result",
          "data": {
            "text/plain": [
              "['Sanborns Casa Piedra',\n",
              " 'Log Yin',\n",
              " 'Vips',\n",
              " 'Mikasa',\n",
              " 'Restaurant and Bar and Clothesline Carlos N Charlies',\n",
              " 'Chilis Cuernavaca',\n",
              " 'Mariscos Tia Licha',\n",
              " 'Paniroles',\n",
              " 'Restaurant Teely',\n",
              " 'Rincon del Bife']"
            ]
          },
          "metadata": {},
          "execution_count": 21
        }
      ]
    },
    {
      "cell_type": "markdown",
      "source": [
        "Podemos observar que tenemos 9 de 10 restaurantes dentro del Top 10."
      ],
      "metadata": {
        "id": "zYSDdQyK9zpJ"
      }
    },
    {
      "cell_type": "markdown",
      "source": [
        "## **Ejercicio 5**"
      ],
      "metadata": {
        "id": "F90kIkgTuD4r"
      }
    },
    {
      "cell_type": "markdown",
      "source": [
        "---\n",
        "Repite el ejercicio con el restaurante “\"tacos de barbacoa enfrente del Tec\". Incluye tus conclusiones. \n",
        "\n",
        "---"
      ],
      "metadata": {
        "id": "fTlSQp1iuiaz"
      }
    },
    {
      "cell_type": "code",
      "source": [
        "corrMx2 = np.corrcoef(resultant_matrix2, )\n",
        "corrMx2.shape"
      ],
      "metadata": {
        "id": "WReEu8uFukId",
        "colab": {
          "base_uri": "https://localhost:8080/"
        },
        "outputId": "e5a78541-a07b-4e86-d6d0-b183cf6c5e1f"
      },
      "execution_count": 22,
      "outputs": [
        {
          "output_type": "execute_result",
          "data": {
            "text/plain": [
              "(129, 129)"
            ]
          },
          "metadata": {},
          "execution_count": 22
        }
      ]
    },
    {
      "cell_type": "code",
      "source": [
        "me_gusta2 = \"tacos de barbacoa enfrente del Tec\"\n",
        "\n",
        "names2 = UtMx.columns\n",
        "names_list2 = list(names2)\n",
        "id_megusta2 = names_list.index(me_gusta2)\n",
        "\n",
        "id_megusta2"
      ],
      "metadata": {
        "colab": {
          "base_uri": "https://localhost:8080/"
        },
        "id": "A9fqWcy9q_9I",
        "outputId": "3a5bf588-a7fa-4c1c-842d-d2d4c19fffb8"
      },
      "execution_count": 23,
      "outputs": [
        {
          "output_type": "execute_result",
          "data": {
            "text/plain": [
              "124"
            ]
          },
          "metadata": {},
          "execution_count": 23
        }
      ]
    },
    {
      "cell_type": "code",
      "source": [
        "corr_recomienda2 = corrMx2[id_megusta2]\n",
        "print(corr_recomienda2)"
      ],
      "metadata": {
        "colab": {
          "base_uri": "https://localhost:8080/"
        },
        "id": "5zzfkTHGrMp6",
        "outputId": "803707cd-de84-44b5-926b-07c4888002f9"
      },
      "execution_count": 24,
      "outputs": [
        {
          "output_type": "stream",
          "name": "stdout",
          "text": [
            "[ 0.12849817  0.85132109 -0.81307377 -0.5740156   0.84385201 -0.12022155\n",
            " -0.71099565  0.99796339  0.9999968   0.06817969 -0.04977942  0.84236461\n",
            "  0.09957573  0.05485426  0.1067433  -0.68573064  0.84563401 -0.36629883\n",
            " -0.20981003 -0.87666112  0.84705344  0.84420444 -0.6933344  -0.48784757\n",
            "  0.99972783  0.99997745  0.05761053 -0.17670084  0.10193164  0.84417354\n",
            " -0.81935652 -0.19983648 -0.78486154 -0.36053477 -0.60720661 -0.63722462\n",
            "  0.99994441  0.84304002  0.84383252 -0.22342069 -0.73964179  0.842367\n",
            "  0.84379011 -0.47726879 -0.46549191  0.84250254  0.84143266 -0.3576353\n",
            "  0.99994639  0.10673964 -0.64771984  0.84389113 -0.64377078 -0.13601567\n",
            "  0.84403936  0.84373367 -0.29206303 -0.10905962  0.84152952 -0.78181001\n",
            "  0.84248694 -0.09394097 -0.22532779 -0.24419095  0.84410151  0.13716428\n",
            " -0.14727191  0.05280885 -0.53304605 -0.55725618 -0.84204281 -0.28477571\n",
            " -0.74810467 -0.05977286 -0.17724426  0.00103522 -0.89640177 -0.07904244\n",
            " -0.86672436  0.03864482  0.10634325 -0.32111705 -0.72800521  0.11967587\n",
            "  0.10603727  0.84190604  0.84353267  0.05531064  0.84189183 -0.68713551\n",
            "  0.99348881  0.99993587  0.99999782 -0.599506    0.00489087 -0.15207933\n",
            " -0.82860013  0.84278549  0.99569646 -0.63549331  0.9997405   0.99999547\n",
            "  0.99980165 -0.73471962 -0.78202435 -0.04040542 -0.05878703 -0.45410207\n",
            " -0.53765169 -0.58047033 -0.8038474   0.13497752 -0.50300422  0.99318048\n",
            "  0.99998369 -0.72101241  0.99999632  0.00461465  0.99997361 -0.56237686\n",
            " -0.68882564 -0.64917226 -0.03079161  0.99999997  1.          0.99991468\n",
            " -0.44153438  0.99987832  0.99998366]\n"
          ]
        }
      ]
    },
    {
      "cell_type": "code",
      "source": [
        "list(names[np.argsort(corr_recomienda2)][-11:-1])"
      ],
      "metadata": {
        "colab": {
          "base_uri": "https://localhost:8080/"
        },
        "id": "qhzvyElnrUBA",
        "outputId": "7584835f-1dfd-41e3-fbf5-f41dc8bebd6c"
      },
      "execution_count": 25,
      "outputs": [
        {
          "output_type": "execute_result",
          "data": {
            "text/plain": [
              "['Pollo_Frito_Buenos_Aires',\n",
              " 'puesto de gorditas',\n",
              " 'Hamburguesas La perica',\n",
              " 'vips',\n",
              " 'little pizza Emilio Portes Gil',\n",
              " 'carnitas_mata',\n",
              " 'palomo tec',\n",
              " 'Carreton de Flautas y Migadas',\n",
              " 'Taqueria EL amigo ',\n",
              " 'tacos abi']"
            ]
          },
          "metadata": {},
          "execution_count": 25
        }
      ]
    },
    {
      "cell_type": "markdown",
      "source": [
        "---\n",
        "Observamos recomendaciones bastante acertadas, ya que los restaurantes mencionados tienen tipos de comida muy similares los cuales también pueden estar o entre los favoritos o excelentes opciones para degustar.\n",
        "\n",
        "---"
      ],
      "metadata": {
        "id": "ob1eCD5Mrb9A"
      }
    },
    {
      "cell_type": "markdown",
      "source": [
        "## **Ejercicio 6**"
      ],
      "metadata": {
        "id": "Pdf4x9bSuE59"
      }
    },
    {
      "cell_type": "markdown",
      "source": [
        "---\n",
        "Repite los ejercicios 1 a 4 generando ahora la matriz de utilidad en la cual los renglones son los usuarios (user_ID), las columnas los nombres de los restaurantes (name) y las entradas la evaluación dada a la comida (food_rating). Incluye tus conclusiones. \n",
        "\n",
        "---"
      ],
      "metadata": {
        "id": "lJ9uNxsbul43"
      }
    },
    {
      "cell_type": "markdown",
      "source": [
        "## **6.1 Matriz de utilidad**"
      ],
      "metadata": {
        "id": "2y-FN4gsr31L"
      }
    },
    {
      "cell_type": "code",
      "source": [
        "rdf2 = pd.read_csv(rating_final)\n",
        "gdf2 = pd.read_csv(geo_places, encoding='latin-1')\n",
        "\n",
        "dfw = pd.merge(rdf2, gdf2, on='placeID') \n",
        "dfw = dfw.pivot_table(values='food_rating', index='userID', columns='name', fill_value=0)\n",
        "\n",
        "print('El tamaño de la matriz es: {}'.format(dfw.shape))\n",
        "\n",
        "dfw.head(10)"
      ],
      "metadata": {
        "id": "f8genKYauo71",
        "colab": {
          "base_uri": "https://localhost:8080/",
          "height": 574
        },
        "outputId": "2b998125-1047-4b00-eb96-ecb56bd9828a"
      },
      "execution_count": 26,
      "outputs": [
        {
          "output_type": "stream",
          "name": "stdout",
          "text": [
            "El tamaño de la matriz es: (138, 129)\n"
          ]
        },
        {
          "output_type": "execute_result",
          "data": {
            "text/plain": [
              "name    Abondance Restaurante Bar  Arrachela Grill  Cabana Huasteca  \\\n",
              "userID                                                                \n",
              "U1001                           0                0                0   \n",
              "U1002                           0                0                0   \n",
              "U1003                           0                0                2   \n",
              "U1004                           0                0                0   \n",
              "U1005                           0                0                0   \n",
              "U1006                           0                0                0   \n",
              "U1007                           0                0                0   \n",
              "U1008                           1                0                0   \n",
              "U1009                           0                0                2   \n",
              "U1010                           0                0                0   \n",
              "\n",
              "name    Cafe Chaires  Cafeteria cenidet  Cafeteria y Restaurant El Pacifico  \\\n",
              "userID                                                                        \n",
              "U1001              0                  0                                   0   \n",
              "U1002              0                  0                                   0   \n",
              "U1003              0                  0                                   0   \n",
              "U1004              0                  0                                   2   \n",
              "U1005              0                  0                                   1   \n",
              "U1006              0                  0                                   0   \n",
              "U1007              1                  0                                   1   \n",
              "U1008              0                  0                                   0   \n",
              "U1009              0                  0                                   0   \n",
              "U1010              0                  0                                   0   \n",
              "\n",
              "name    Carls Jr  Carnitas Mata  Calle 16 de Septiembre  \\\n",
              "userID                                                    \n",
              "U1001          0                                      0   \n",
              "U1002          0                                      0   \n",
              "U1003          0                                      0   \n",
              "U1004          0                                      0   \n",
              "U1005          0                                      0   \n",
              "U1006          0                                      0   \n",
              "U1007          0                                      0   \n",
              "U1008          0                                      0   \n",
              "U1009          0                                      0   \n",
              "U1010          0                                      0   \n",
              "\n",
              "name    Carreton de Flautas y Migadas  Cenaduria El RincÃ³n de Tlaquepaque  \\\n",
              "userID                                                                       \n",
              "U1001                               0                                    0   \n",
              "U1002                               0                                    0   \n",
              "U1003                               0                                    0   \n",
              "U1004                               0                                    0   \n",
              "U1005                               0                                    0   \n",
              "U1006                               0                                    0   \n",
              "U1007                               0                                    0   \n",
              "U1008                               0                                    0   \n",
              "U1009                               0                                    0   \n",
              "U1010                               0                                    0   \n",
              "\n",
              "name    ...  puesto de tacos  rockabilly   shi ro ie  sirloin stockade  \\\n",
              "userID  ...                                                              \n",
              "U1001   ...                2            0          0                 0   \n",
              "U1002   ...                2            0          0                 0   \n",
              "U1003   ...                2            2          0                 0   \n",
              "U1004   ...                0            0          0                 0   \n",
              "U1005   ...                0            0          0                 0   \n",
              "U1006   ...                1            0          2                 0   \n",
              "U1007   ...                0            0          0                 0   \n",
              "U1008   ...                0            0          0                 0   \n",
              "U1009   ...                1            0          0                 0   \n",
              "U1010   ...                0            0          0                 0   \n",
              "\n",
              "name    tacos abi  tacos de barbacoa enfrente del Tec  tacos de la estacion  \\\n",
              "userID                                                                        \n",
              "U1001           0                                   0                     0   \n",
              "U1002           0                                   0                     0   \n",
              "U1003           0                                   0                     0   \n",
              "U1004           0                                   0                     0   \n",
              "U1005           0                                   0                     0   \n",
              "U1006           0                                   0                     0   \n",
              "U1007           0                                   0                     0   \n",
              "U1008           0                                   0                     0   \n",
              "U1009           0                                   0                     0   \n",
              "U1010           0                                   0                     0   \n",
              "\n",
              "name    tacos los volcanes  tortas hawai  vips  \n",
              "userID                                          \n",
              "U1001                    0             0     0  \n",
              "U1002                    0             0     0  \n",
              "U1003                    0             0     0  \n",
              "U1004                    2             0     0  \n",
              "U1005                    0             0     0  \n",
              "U1006                    0             0     0  \n",
              "U1007                    0             0     0  \n",
              "U1008                    0             0     0  \n",
              "U1009                    0             0     0  \n",
              "U1010                    0             0     0  \n",
              "\n",
              "[10 rows x 129 columns]"
            ],
            "text/html": [
              "\n",
              "  <div id=\"df-0878346d-adc1-4cb4-aa79-ef8190adaf4f\">\n",
              "    <div class=\"colab-df-container\">\n",
              "      <div>\n",
              "<style scoped>\n",
              "    .dataframe tbody tr th:only-of-type {\n",
              "        vertical-align: middle;\n",
              "    }\n",
              "\n",
              "    .dataframe tbody tr th {\n",
              "        vertical-align: top;\n",
              "    }\n",
              "\n",
              "    .dataframe thead th {\n",
              "        text-align: right;\n",
              "    }\n",
              "</style>\n",
              "<table border=\"1\" class=\"dataframe\">\n",
              "  <thead>\n",
              "    <tr style=\"text-align: right;\">\n",
              "      <th>name</th>\n",
              "      <th>Abondance Restaurante Bar</th>\n",
              "      <th>Arrachela Grill</th>\n",
              "      <th>Cabana Huasteca</th>\n",
              "      <th>Cafe Chaires</th>\n",
              "      <th>Cafeteria cenidet</th>\n",
              "      <th>Cafeteria y Restaurant El Pacifico</th>\n",
              "      <th>Carls Jr</th>\n",
              "      <th>Carnitas Mata  Calle 16 de Septiembre</th>\n",
              "      <th>Carreton de Flautas y Migadas</th>\n",
              "      <th>Cenaduria El RincÃ³n de Tlaquepaque</th>\n",
              "      <th>...</th>\n",
              "      <th>puesto de tacos</th>\n",
              "      <th>rockabilly</th>\n",
              "      <th>shi ro ie</th>\n",
              "      <th>sirloin stockade</th>\n",
              "      <th>tacos abi</th>\n",
              "      <th>tacos de barbacoa enfrente del Tec</th>\n",
              "      <th>tacos de la estacion</th>\n",
              "      <th>tacos los volcanes</th>\n",
              "      <th>tortas hawai</th>\n",
              "      <th>vips</th>\n",
              "    </tr>\n",
              "    <tr>\n",
              "      <th>userID</th>\n",
              "      <th></th>\n",
              "      <th></th>\n",
              "      <th></th>\n",
              "      <th></th>\n",
              "      <th></th>\n",
              "      <th></th>\n",
              "      <th></th>\n",
              "      <th></th>\n",
              "      <th></th>\n",
              "      <th></th>\n",
              "      <th></th>\n",
              "      <th></th>\n",
              "      <th></th>\n",
              "      <th></th>\n",
              "      <th></th>\n",
              "      <th></th>\n",
              "      <th></th>\n",
              "      <th></th>\n",
              "      <th></th>\n",
              "      <th></th>\n",
              "      <th></th>\n",
              "    </tr>\n",
              "  </thead>\n",
              "  <tbody>\n",
              "    <tr>\n",
              "      <th>U1001</th>\n",
              "      <td>0</td>\n",
              "      <td>0</td>\n",
              "      <td>0</td>\n",
              "      <td>0</td>\n",
              "      <td>0</td>\n",
              "      <td>0</td>\n",
              "      <td>0</td>\n",
              "      <td>0</td>\n",
              "      <td>0</td>\n",
              "      <td>0</td>\n",
              "      <td>...</td>\n",
              "      <td>2</td>\n",
              "      <td>0</td>\n",
              "      <td>0</td>\n",
              "      <td>0</td>\n",
              "      <td>0</td>\n",
              "      <td>0</td>\n",
              "      <td>0</td>\n",
              "      <td>0</td>\n",
              "      <td>0</td>\n",
              "      <td>0</td>\n",
              "    </tr>\n",
              "    <tr>\n",
              "      <th>U1002</th>\n",
              "      <td>0</td>\n",
              "      <td>0</td>\n",
              "      <td>0</td>\n",
              "      <td>0</td>\n",
              "      <td>0</td>\n",
              "      <td>0</td>\n",
              "      <td>0</td>\n",
              "      <td>0</td>\n",
              "      <td>0</td>\n",
              "      <td>0</td>\n",
              "      <td>...</td>\n",
              "      <td>2</td>\n",
              "      <td>0</td>\n",
              "      <td>0</td>\n",
              "      <td>0</td>\n",
              "      <td>0</td>\n",
              "      <td>0</td>\n",
              "      <td>0</td>\n",
              "      <td>0</td>\n",
              "      <td>0</td>\n",
              "      <td>0</td>\n",
              "    </tr>\n",
              "    <tr>\n",
              "      <th>U1003</th>\n",
              "      <td>0</td>\n",
              "      <td>0</td>\n",
              "      <td>2</td>\n",
              "      <td>0</td>\n",
              "      <td>0</td>\n",
              "      <td>0</td>\n",
              "      <td>0</td>\n",
              "      <td>0</td>\n",
              "      <td>0</td>\n",
              "      <td>0</td>\n",
              "      <td>...</td>\n",
              "      <td>2</td>\n",
              "      <td>2</td>\n",
              "      <td>0</td>\n",
              "      <td>0</td>\n",
              "      <td>0</td>\n",
              "      <td>0</td>\n",
              "      <td>0</td>\n",
              "      <td>0</td>\n",
              "      <td>0</td>\n",
              "      <td>0</td>\n",
              "    </tr>\n",
              "    <tr>\n",
              "      <th>U1004</th>\n",
              "      <td>0</td>\n",
              "      <td>0</td>\n",
              "      <td>0</td>\n",
              "      <td>0</td>\n",
              "      <td>0</td>\n",
              "      <td>2</td>\n",
              "      <td>0</td>\n",
              "      <td>0</td>\n",
              "      <td>0</td>\n",
              "      <td>0</td>\n",
              "      <td>...</td>\n",
              "      <td>0</td>\n",
              "      <td>0</td>\n",
              "      <td>0</td>\n",
              "      <td>0</td>\n",
              "      <td>0</td>\n",
              "      <td>0</td>\n",
              "      <td>0</td>\n",
              "      <td>2</td>\n",
              "      <td>0</td>\n",
              "      <td>0</td>\n",
              "    </tr>\n",
              "    <tr>\n",
              "      <th>U1005</th>\n",
              "      <td>0</td>\n",
              "      <td>0</td>\n",
              "      <td>0</td>\n",
              "      <td>0</td>\n",
              "      <td>0</td>\n",
              "      <td>1</td>\n",
              "      <td>0</td>\n",
              "      <td>0</td>\n",
              "      <td>0</td>\n",
              "      <td>0</td>\n",
              "      <td>...</td>\n",
              "      <td>0</td>\n",
              "      <td>0</td>\n",
              "      <td>0</td>\n",
              "      <td>0</td>\n",
              "      <td>0</td>\n",
              "      <td>0</td>\n",
              "      <td>0</td>\n",
              "      <td>0</td>\n",
              "      <td>0</td>\n",
              "      <td>0</td>\n",
              "    </tr>\n",
              "    <tr>\n",
              "      <th>U1006</th>\n",
              "      <td>0</td>\n",
              "      <td>0</td>\n",
              "      <td>0</td>\n",
              "      <td>0</td>\n",
              "      <td>0</td>\n",
              "      <td>0</td>\n",
              "      <td>0</td>\n",
              "      <td>0</td>\n",
              "      <td>0</td>\n",
              "      <td>0</td>\n",
              "      <td>...</td>\n",
              "      <td>1</td>\n",
              "      <td>0</td>\n",
              "      <td>2</td>\n",
              "      <td>0</td>\n",
              "      <td>0</td>\n",
              "      <td>0</td>\n",
              "      <td>0</td>\n",
              "      <td>0</td>\n",
              "      <td>0</td>\n",
              "      <td>0</td>\n",
              "    </tr>\n",
              "    <tr>\n",
              "      <th>U1007</th>\n",
              "      <td>0</td>\n",
              "      <td>0</td>\n",
              "      <td>0</td>\n",
              "      <td>1</td>\n",
              "      <td>0</td>\n",
              "      <td>1</td>\n",
              "      <td>0</td>\n",
              "      <td>0</td>\n",
              "      <td>0</td>\n",
              "      <td>0</td>\n",
              "      <td>...</td>\n",
              "      <td>0</td>\n",
              "      <td>0</td>\n",
              "      <td>0</td>\n",
              "      <td>0</td>\n",
              "      <td>0</td>\n",
              "      <td>0</td>\n",
              "      <td>0</td>\n",
              "      <td>0</td>\n",
              "      <td>0</td>\n",
              "      <td>0</td>\n",
              "    </tr>\n",
              "    <tr>\n",
              "      <th>U1008</th>\n",
              "      <td>1</td>\n",
              "      <td>0</td>\n",
              "      <td>0</td>\n",
              "      <td>0</td>\n",
              "      <td>0</td>\n",
              "      <td>0</td>\n",
              "      <td>0</td>\n",
              "      <td>0</td>\n",
              "      <td>0</td>\n",
              "      <td>0</td>\n",
              "      <td>...</td>\n",
              "      <td>0</td>\n",
              "      <td>0</td>\n",
              "      <td>0</td>\n",
              "      <td>0</td>\n",
              "      <td>0</td>\n",
              "      <td>0</td>\n",
              "      <td>0</td>\n",
              "      <td>0</td>\n",
              "      <td>0</td>\n",
              "      <td>0</td>\n",
              "    </tr>\n",
              "    <tr>\n",
              "      <th>U1009</th>\n",
              "      <td>0</td>\n",
              "      <td>0</td>\n",
              "      <td>2</td>\n",
              "      <td>0</td>\n",
              "      <td>0</td>\n",
              "      <td>0</td>\n",
              "      <td>0</td>\n",
              "      <td>0</td>\n",
              "      <td>0</td>\n",
              "      <td>0</td>\n",
              "      <td>...</td>\n",
              "      <td>1</td>\n",
              "      <td>0</td>\n",
              "      <td>0</td>\n",
              "      <td>0</td>\n",
              "      <td>0</td>\n",
              "      <td>0</td>\n",
              "      <td>0</td>\n",
              "      <td>0</td>\n",
              "      <td>0</td>\n",
              "      <td>0</td>\n",
              "    </tr>\n",
              "    <tr>\n",
              "      <th>U1010</th>\n",
              "      <td>0</td>\n",
              "      <td>0</td>\n",
              "      <td>0</td>\n",
              "      <td>0</td>\n",
              "      <td>0</td>\n",
              "      <td>0</td>\n",
              "      <td>0</td>\n",
              "      <td>0</td>\n",
              "      <td>0</td>\n",
              "      <td>0</td>\n",
              "      <td>...</td>\n",
              "      <td>0</td>\n",
              "      <td>0</td>\n",
              "      <td>0</td>\n",
              "      <td>0</td>\n",
              "      <td>0</td>\n",
              "      <td>0</td>\n",
              "      <td>0</td>\n",
              "      <td>0</td>\n",
              "      <td>0</td>\n",
              "      <td>0</td>\n",
              "    </tr>\n",
              "  </tbody>\n",
              "</table>\n",
              "<p>10 rows × 129 columns</p>\n",
              "</div>\n",
              "      <button class=\"colab-df-convert\" onclick=\"convertToInteractive('df-0878346d-adc1-4cb4-aa79-ef8190adaf4f')\"\n",
              "              title=\"Convert this dataframe to an interactive table.\"\n",
              "              style=\"display:none;\">\n",
              "        \n",
              "  <svg xmlns=\"http://www.w3.org/2000/svg\" height=\"24px\"viewBox=\"0 0 24 24\"\n",
              "       width=\"24px\">\n",
              "    <path d=\"M0 0h24v24H0V0z\" fill=\"none\"/>\n",
              "    <path d=\"M18.56 5.44l.94 2.06.94-2.06 2.06-.94-2.06-.94-.94-2.06-.94 2.06-2.06.94zm-11 1L8.5 8.5l.94-2.06 2.06-.94-2.06-.94L8.5 2.5l-.94 2.06-2.06.94zm10 10l.94 2.06.94-2.06 2.06-.94-2.06-.94-.94-2.06-.94 2.06-2.06.94z\"/><path d=\"M17.41 7.96l-1.37-1.37c-.4-.4-.92-.59-1.43-.59-.52 0-1.04.2-1.43.59L10.3 9.45l-7.72 7.72c-.78.78-.78 2.05 0 2.83L4 21.41c.39.39.9.59 1.41.59.51 0 1.02-.2 1.41-.59l7.78-7.78 2.81-2.81c.8-.78.8-2.07 0-2.86zM5.41 20L4 18.59l7.72-7.72 1.47 1.35L5.41 20z\"/>\n",
              "  </svg>\n",
              "      </button>\n",
              "      \n",
              "  <style>\n",
              "    .colab-df-container {\n",
              "      display:flex;\n",
              "      flex-wrap:wrap;\n",
              "      gap: 12px;\n",
              "    }\n",
              "\n",
              "    .colab-df-convert {\n",
              "      background-color: #E8F0FE;\n",
              "      border: none;\n",
              "      border-radius: 50%;\n",
              "      cursor: pointer;\n",
              "      display: none;\n",
              "      fill: #1967D2;\n",
              "      height: 32px;\n",
              "      padding: 0 0 0 0;\n",
              "      width: 32px;\n",
              "    }\n",
              "\n",
              "    .colab-df-convert:hover {\n",
              "      background-color: #E2EBFA;\n",
              "      box-shadow: 0px 1px 2px rgba(60, 64, 67, 0.3), 0px 1px 3px 1px rgba(60, 64, 67, 0.15);\n",
              "      fill: #174EA6;\n",
              "    }\n",
              "\n",
              "    [theme=dark] .colab-df-convert {\n",
              "      background-color: #3B4455;\n",
              "      fill: #D2E3FC;\n",
              "    }\n",
              "\n",
              "    [theme=dark] .colab-df-convert:hover {\n",
              "      background-color: #434B5C;\n",
              "      box-shadow: 0px 1px 3px 1px rgba(0, 0, 0, 0.15);\n",
              "      filter: drop-shadow(0px 1px 2px rgba(0, 0, 0, 0.3));\n",
              "      fill: #FFFFFF;\n",
              "    }\n",
              "  </style>\n",
              "\n",
              "      <script>\n",
              "        const buttonEl =\n",
              "          document.querySelector('#df-0878346d-adc1-4cb4-aa79-ef8190adaf4f button.colab-df-convert');\n",
              "        buttonEl.style.display =\n",
              "          google.colab.kernel.accessAllowed ? 'block' : 'none';\n",
              "\n",
              "        async function convertToInteractive(key) {\n",
              "          const element = document.querySelector('#df-0878346d-adc1-4cb4-aa79-ef8190adaf4f');\n",
              "          const dataTable =\n",
              "            await google.colab.kernel.invokeFunction('convertToInteractive',\n",
              "                                                     [key], {});\n",
              "          if (!dataTable) return;\n",
              "\n",
              "          const docLinkHtml = 'Like what you see? Visit the ' +\n",
              "            '<a target=\"_blank\" href=https://colab.research.google.com/notebooks/data_table.ipynb>data table notebook</a>'\n",
              "            + ' to learn more about interactive tables.';\n",
              "          element.innerHTML = '';\n",
              "          dataTable['output_type'] = 'display_data';\n",
              "          await google.colab.output.renderOutput(dataTable, element);\n",
              "          const docLink = document.createElement('div');\n",
              "          docLink.innerHTML = docLinkHtml;\n",
              "          element.appendChild(docLink);\n",
              "        }\n",
              "      </script>\n",
              "    </div>\n",
              "  </div>\n",
              "  "
            ]
          },
          "metadata": {},
          "execution_count": 26
        }
      ]
    },
    {
      "cell_type": "markdown",
      "source": [
        "## **6.2 Factorización con todos los elementos posibles.**"
      ],
      "metadata": {
        "id": "qGRdBL4xsqGf"
      }
    },
    {
      "cell_type": "code",
      "source": [
        "w = dfw.T #para evitar cruzar la información con el primer ejercicio cambiamos la x por w\n",
        "w.shape"
      ],
      "metadata": {
        "colab": {
          "base_uri": "https://localhost:8080/"
        },
        "id": "1AbNq-Yesu_Q",
        "outputId": "c0d1fb3f-5043-43a9-8e34-3a0d52ae5ace"
      },
      "execution_count": 27,
      "outputs": [
        {
          "output_type": "execute_result",
          "data": {
            "text/plain": [
              "(129, 138)"
            ]
          },
          "metadata": {},
          "execution_count": 27
        }
      ]
    },
    {
      "cell_type": "code",
      "source": [
        "num_svw = 137\n",
        "\n",
        "SVDw = TruncatedSVD(n_components=num_svw, random_state=1)\n",
        "\n",
        "resultant_matrixw = SVDw.fit_transform(w)\n",
        "resultant_matrixw.shape"
      ],
      "metadata": {
        "colab": {
          "base_uri": "https://localhost:8080/"
        },
        "id": "2tNXEe7YtWZ6",
        "outputId": "d507a709-61f7-4a8c-f473-0f5015370ee5"
      },
      "execution_count": 28,
      "outputs": [
        {
          "output_type": "execute_result",
          "data": {
            "text/plain": [
              "(129, 129)"
            ]
          },
          "metadata": {},
          "execution_count": 28
        }
      ]
    },
    {
      "cell_type": "markdown",
      "source": [
        "## **6.3 10 mejores recomendaciones con métrica de Pearon.**"
      ],
      "metadata": {
        "id": "YkEPjRZCtigw"
      }
    },
    {
      "cell_type": "code",
      "source": [
        "corrMxw = np.corrcoef(resultant_matrixw, )\n",
        "corrMxw.shape"
      ],
      "metadata": {
        "colab": {
          "base_uri": "https://localhost:8080/"
        },
        "id": "BQbJWJf8trmz",
        "outputId": "e550ee7d-70bf-48a1-db6e-fd6e98b47a13"
      },
      "execution_count": 29,
      "outputs": [
        {
          "output_type": "execute_result",
          "data": {
            "text/plain": [
              "(129, 129)"
            ]
          },
          "metadata": {},
          "execution_count": 29
        }
      ]
    },
    {
      "cell_type": "code",
      "source": [
        "me_gustaw = \"Subway\"\n",
        "\n",
        "namesw = dfw.columns\n",
        "names_listw = list(namesw)\n",
        "id_megustaw = names_listw.index(me_gustaw)\n",
        "\n",
        "id_megustaw"
      ],
      "metadata": {
        "colab": {
          "base_uri": "https://localhost:8080/"
        },
        "id": "n5-mFhDPuCck",
        "outputId": "9f913f6c-b82b-4f61-c2ba-144be776773f"
      },
      "execution_count": 30,
      "outputs": [
        {
          "output_type": "execute_result",
          "data": {
            "text/plain": [
              "88"
            ]
          },
          "metadata": {},
          "execution_count": 30
        }
      ]
    },
    {
      "cell_type": "code",
      "source": [
        "corr_recomiendaw = corrMxw[id_megustaw]\n",
        "print(corr_recomiendaw)"
      ],
      "metadata": {
        "colab": {
          "base_uri": "https://localhost:8080/"
        },
        "id": "g5hRNyL4uUtq",
        "outputId": "64b85db1-b04f-49ef-bc2a-26d7a43dd607"
      },
      "execution_count": 31,
      "outputs": [
        {
          "output_type": "stream",
          "name": "stdout",
          "text": [
            "[-5.06418108e-03  1.53891772e-03 -7.15705294e-03 -7.51437349e-04\n",
            "  3.57844065e-04 -4.27908953e-03 -4.10491062e-03 -8.72391553e-03\n",
            " -5.80659154e-03 -7.37551348e-03 -6.29677017e-03  1.19529006e-03\n",
            " -5.49056441e-03 -6.25106315e-03 -2.26808294e-04  2.26784575e-03\n",
            " -4.97923491e-03 -7.33491870e-03 -5.49091909e-05 -6.54487708e-03\n",
            " -7.17291384e-04  2.31333734e-01 -9.42653806e-04  1.15809414e-03\n",
            " -2.44343966e-03 -2.46720616e-03 -8.43368969e-04 -2.05629573e-03\n",
            " -3.70288596e-03  2.50357400e-01 -5.28927854e-03  2.72981977e-03\n",
            "  4.14365709e-04 -9.51153872e-03  2.32009229e-03 -9.29532082e-03\n",
            " -4.03970901e-03  1.31858098e-01 -8.36645261e-03 -2.30125601e-03\n",
            " -2.61409620e-03  4.15222053e-01  4.25538306e-03  3.02880631e-03\n",
            " -2.46282020e-03  2.09493113e-01  3.12082362e-01 -3.01154158e-03\n",
            " -3.10972278e-04 -1.11824996e-03  8.07121501e-04  2.24213782e-01\n",
            "  2.65096107e-04  6.44807197e-04  2.32708368e-01  3.31706780e-01\n",
            "  6.95063851e-04  3.47994174e-04  8.16413374e-01  1.04699730e-04\n",
            "  4.68949686e-01  4.43119191e-03 -2.79083259e-03 -4.74310321e-03\n",
            "  9.45625400e-02 -4.32375633e-03 -9.91593839e-03  6.59128482e-03\n",
            " -5.26009411e-03 -8.53125476e-03 -1.08456080e-02  5.80519412e-03\n",
            "  3.26361206e-03  1.18239199e-03  1.50584868e-04 -6.05677040e-03\n",
            " -8.57964598e-04 -5.47089297e-04  1.30496863e-03  1.14112586e-03\n",
            " -3.15094052e-03  1.03603724e-02  2.95398913e-03 -9.38144208e-03\n",
            " -6.29169520e-04  3.81819463e-01  3.65656688e-01  4.28784461e-04\n",
            "  1.00000000e+00 -1.99936321e-03 -4.29943952e-03 -9.95112702e-03\n",
            " -6.58885162e-03 -4.81048142e-03 -5.63718446e-03 -1.74366758e-03\n",
            "  3.01538197e-03  4.42147702e-01 -5.86019551e-03 -1.52653108e-03\n",
            " -8.54349820e-03  3.15606317e-03  2.45599865e-04 -4.60337555e-03\n",
            " -7.91423599e-04  8.56988031e-04  1.98632124e-03 -9.14149262e-04\n",
            " -9.63185863e-03 -6.59421891e-03 -3.61768796e-03 -4.98574218e-03\n",
            " -2.08219907e-03 -8.12719293e-04 -2.93115223e-03 -2.83804692e-03\n",
            "  2.86699454e-03 -2.84151084e-04 -6.54974706e-03 -8.56547287e-03\n",
            "  1.73284166e-04 -9.40493206e-03 -7.95661685e-03 -1.05138327e-02\n",
            " -5.78915963e-03 -5.39973770e-03 -7.67089017e-03  6.33375557e-03\n",
            " -2.57101052e-03]\n"
          ]
        }
      ]
    },
    {
      "cell_type": "code",
      "source": [
        "list(names[np.argsort(corr_recomiendaw)][-11:-1])"
      ],
      "metadata": {
        "colab": {
          "base_uri": "https://localhost:8080/"
        },
        "id": "Ub9BemEpuZGg",
        "outputId": "84b365cc-422a-4ad5-e711-c0bed32bb753"
      },
      "execution_count": 32,
      "outputs": [
        {
          "output_type": "execute_result",
          "data": {
            "text/plain": [
              "['Restaurant Familiar El Chino',\n",
              " 'Kiku Cuernavaca',\n",
              " 'Paniroles',\n",
              " 'Restaurant Las Mananitas',\n",
              " 'Sanborns Casa Piedra',\n",
              " 'Rincon del Bife',\n",
              " 'Mariscos Tia Licha',\n",
              " 'Vips',\n",
              " 'Restaurant and Bar and Clothesline Carlos N Charlies',\n",
              " 'Restaurant Teely']"
            ]
          },
          "metadata": {},
          "execution_count": 32
        }
      ]
    },
    {
      "cell_type": "markdown",
      "source": [
        "## **6.4 Disminuir dimension de Factorizacion.**"
      ],
      "metadata": {
        "id": "IfflSGU-AXql"
      }
    },
    {
      "cell_type": "code",
      "source": [
        "w2 = dfw.T\n",
        "w2.shape"
      ],
      "metadata": {
        "colab": {
          "base_uri": "https://localhost:8080/"
        },
        "id": "k9r6xk4JAVL0",
        "outputId": "ba12a282-bf98-4d25-bf3e-a09a97d6a440"
      },
      "execution_count": 33,
      "outputs": [
        {
          "output_type": "execute_result",
          "data": {
            "text/plain": [
              "(129, 138)"
            ]
          },
          "metadata": {},
          "execution_count": 33
        }
      ]
    },
    {
      "cell_type": "code",
      "source": [
        "SVDw2 = TruncatedSVD(n_components=137, random_state=1)  \n",
        "SVDw2.fit(w2)\n",
        "\n",
        "num_svw2 = 74\n",
        "\n",
        "print('Cantidad de información simplificada con los primeros %d vectores singulares:' % num_svw2)\n",
        "print('%.1f%%' %  (100 * (1- (SVDw2.singular_values_[0:num_svw2]).sum() / (SVDw2.singular_values_).sum())))"
      ],
      "metadata": {
        "colab": {
          "base_uri": "https://localhost:8080/"
        },
        "id": "ziRZWDnDAvra",
        "outputId": "8c362f69-3606-439f-d590-0af08c986371"
      },
      "execution_count": 34,
      "outputs": [
        {
          "output_type": "stream",
          "name": "stdout",
          "text": [
            "Cantidad de información simplificada con los primeros 74 vectores singulares:\n",
            "12.5%\n"
          ]
        }
      ]
    },
    {
      "cell_type": "code",
      "source": [
        "num_svw2 = 74\n",
        "\n",
        "SVDw2 = TruncatedSVD(n_components=num_svw2, random_state=1)\n",
        "\n",
        "resultant_matrixw2 = SVDw2.fit_transform(w2)\n",
        "resultant_matrixw2.shape"
      ],
      "metadata": {
        "colab": {
          "base_uri": "https://localhost:8080/"
        },
        "id": "eQOpTpF7A6Yp",
        "outputId": "e9ec536b-a67d-440f-bc20-6993c9c2cde8"
      },
      "execution_count": 35,
      "outputs": [
        {
          "output_type": "execute_result",
          "data": {
            "text/plain": [
              "(129, 74)"
            ]
          },
          "metadata": {},
          "execution_count": 35
        }
      ]
    },
    {
      "cell_type": "code",
      "source": [
        "corrMxw2 = np.corrcoef(resultant_matrixw2, )\n",
        "corrMxw2.shape"
      ],
      "metadata": {
        "colab": {
          "base_uri": "https://localhost:8080/"
        },
        "id": "FyWsQqJFA_L1",
        "outputId": "d2ec3241-1e2b-4de2-ead7-328892ddfcaa"
      },
      "execution_count": 36,
      "outputs": [
        {
          "output_type": "execute_result",
          "data": {
            "text/plain": [
              "(129, 129)"
            ]
          },
          "metadata": {},
          "execution_count": 36
        }
      ]
    },
    {
      "cell_type": "code",
      "source": [
        "me_gustaw2 = \"Subway\"\n",
        "\n",
        "namesw2 = UtMx.columns\n",
        "names_listw2 = list(namesw2)\n",
        "id_megustaw2 = names_listw2.index(me_gustaw2)\n",
        "\n",
        "id_megustaw2"
      ],
      "metadata": {
        "colab": {
          "base_uri": "https://localhost:8080/"
        },
        "id": "5VX9uSG_BLb0",
        "outputId": "8002694a-e416-4a55-f779-8a009b22b6c1"
      },
      "execution_count": 37,
      "outputs": [
        {
          "output_type": "execute_result",
          "data": {
            "text/plain": [
              "88"
            ]
          },
          "metadata": {},
          "execution_count": 37
        }
      ]
    },
    {
      "cell_type": "code",
      "source": [
        "corr_recomiendaw2 = corrMxw2[id_megustaw2]\n",
        "print(corr_recomiendaw2)"
      ],
      "metadata": {
        "colab": {
          "base_uri": "https://localhost:8080/"
        },
        "id": "IjtIzJ0tBUDF",
        "outputId": "378bcb27-8609-4b3d-b407-217837c7af74"
      },
      "execution_count": 38,
      "outputs": [
        {
          "output_type": "stream",
          "name": "stdout",
          "text": [
            "[-1.09441214e-02  3.70424322e-02 -1.18784063e-02 -3.63207021e-04\n",
            " -3.32487710e-02 -8.21076637e-03 -6.95208381e-03 -8.73464804e-03\n",
            " -9.92423534e-03 -7.55918428e-03 -1.19602905e-02 -2.61812505e-02\n",
            " -1.07636539e-02 -1.06293238e-02  3.50561189e-04  4.59934981e-03\n",
            " -2.15223700e-02 -1.19735566e-02 -7.30375080e-04 -1.00829107e-02\n",
            "  9.01262734e-03  2.26373959e-01  3.90146425e-04  3.45749506e-03\n",
            " -4.76069422e-03 -4.38915813e-03 -1.35906979e-03 -3.81672435e-03\n",
            " -6.70538048e-03  2.49921465e-01 -8.28240939e-03  2.77906413e-03\n",
            " -7.94077582e-04 -1.47720226e-02  4.28551309e-03 -1.33023444e-02\n",
            " -4.92784240e-03  1.20873751e-01  2.85327587e-02 -4.67893852e-03\n",
            " -5.77075484e-03  4.34973355e-01  4.03117405e-03  5.70434413e-03\n",
            " -3.86124407e-03  2.67162045e-01  3.17003454e-01 -5.67048651e-03\n",
            "  1.93852277e-03 -1.70303190e-03  8.97061255e-05  2.20856914e-01\n",
            "  1.10621535e-03  1.92810220e-03  2.53376408e-01  3.34772220e-01\n",
            " -7.96331824e-05  1.92126058e-03  8.81512488e-01  1.04667077e-04\n",
            "  5.14283528e-01  7.11438494e-03 -4.86799690e-03 -1.81273510e-03\n",
            "  1.00212603e-01 -2.79863399e-03 -1.27335236e-02  1.38534136e-02\n",
            " -1.09802515e-02 -1.30920922e-02 -1.83086903e-02  9.79356362e-03\n",
            "  3.55976016e-03  7.18545293e-05 -2.78475956e-05 -8.65292955e-03\n",
            " -2.42862404e-03  4.26639653e-05  4.57622397e-03  1.38475730e-03\n",
            " -6.66311134e-03  1.76778908e-02  8.19527313e-03 -1.22091587e-02\n",
            " -2.20268500e-03  4.75260898e-01  3.85011090e-01 -5.06398791e-04\n",
            "  1.00000000e+00 -4.59674050e-03 -5.28791398e-03 -1.33443071e-02\n",
            " -8.64125339e-03 -7.84202863e-03 -4.71016867e-03 -6.33803704e-04\n",
            "  4.63038200e-03  4.48615606e-01 -9.20161009e-03 -3.61235317e-03\n",
            " -1.69780725e-02  4.31571263e-03  2.55779487e-03 -7.60258868e-03\n",
            " -1.90508236e-03  2.64345653e-03  1.25767429e-03  1.54570482e-03\n",
            " -1.41499999e-02 -1.03776917e-02 -6.72514073e-03 -8.87711919e-03\n",
            " -5.69334217e-03 -2.45916403e-03 -3.29848488e-03 -4.35439286e-03\n",
            "  2.03127892e-03  3.55971426e-04 -1.39095938e-02 -1.40145296e-02\n",
            "  4.58549155e-04 -1.33010811e-02 -1.16974848e-02 -1.25876442e-02\n",
            " -1.29586391e-02 -1.00720081e-02 -1.28117230e-02  8.36902646e-03\n",
            " -3.86223779e-03]\n"
          ]
        }
      ]
    },
    {
      "cell_type": "code",
      "source": [
        "list(namesw2[np.argsort(corr_recomiendaw2)][-11:-1])"
      ],
      "metadata": {
        "colab": {
          "base_uri": "https://localhost:8080/"
        },
        "id": "JRSNBUkWBanU",
        "outputId": "f4a9c9c9-8e89-4284-c4b5-a1d785d54071"
      },
      "execution_count": 39,
      "outputs": [
        {
          "output_type": "execute_result",
          "data": {
            "text/plain": [
              "['Restaurant Familiar El Chino',\n",
              " 'Mikasa',\n",
              " 'Paniroles',\n",
              " 'Restaurant Las Mananitas',\n",
              " 'Sanborns Casa Piedra',\n",
              " 'Mariscos Tia Licha',\n",
              " 'Vips',\n",
              " 'Rincon del Bife',\n",
              " 'Restaurant and Bar and Clothesline Carlos N Charlies',\n",
              " 'Restaurant Teely']"
            ]
          },
          "metadata": {},
          "execution_count": 39
        }
      ]
    },
    {
      "cell_type": "markdown",
      "source": [
        "## **Ejercicio 7**"
      ],
      "metadata": {
        "id": "EaEihLf2uGGZ"
      }
    },
    {
      "cell_type": "markdown",
      "source": [
        "---\n",
        "Repite los ejercicios 1 a 4 generando ahora la matriz de utilidad en la cual los renglones son los usuarios (user_ID), las columnas los nombres de los restaurantes (name) y las entradas la evaluación dada al servicio (service_rating). Incluye tus conclusiones. \n",
        "\n",
        "---"
      ],
      "metadata": {
        "id": "Jx5m6zMFusar"
      }
    },
    {
      "cell_type": "markdown",
      "source": [
        "## **7.1 Matriz de utilidad**"
      ],
      "metadata": {
        "id": "AJxSKPwdxHUj"
      }
    },
    {
      "cell_type": "code",
      "source": [
        "rdf3 = pd.read_csv(rating_final)\n",
        "gdf3 = pd.read_csv(geo_places, encoding='latin-1')\n",
        "\n",
        "dfz = pd.merge(rdf3, gdf3, on='placeID') \n",
        "dfz = dfz.pivot_table(values='service_rating', index='userID', columns='name', fill_value=0)\n",
        "\n",
        "print('El tamaño de la matriz es: {}'.format(dfw.shape))\n",
        "\n",
        "dfw.head(10)"
      ],
      "metadata": {
        "id": "6Mxq6Aza_zww",
        "colab": {
          "base_uri": "https://localhost:8080/",
          "height": 574
        },
        "outputId": "721f629d-579f-4e12-c103-9b64040ef41c"
      },
      "execution_count": 40,
      "outputs": [
        {
          "output_type": "stream",
          "name": "stdout",
          "text": [
            "El tamaño de la matriz es: (138, 129)\n"
          ]
        },
        {
          "output_type": "execute_result",
          "data": {
            "text/plain": [
              "name    Abondance Restaurante Bar  Arrachela Grill  Cabana Huasteca  \\\n",
              "userID                                                                \n",
              "U1001                           0                0                0   \n",
              "U1002                           0                0                0   \n",
              "U1003                           0                0                2   \n",
              "U1004                           0                0                0   \n",
              "U1005                           0                0                0   \n",
              "U1006                           0                0                0   \n",
              "U1007                           0                0                0   \n",
              "U1008                           1                0                0   \n",
              "U1009                           0                0                2   \n",
              "U1010                           0                0                0   \n",
              "\n",
              "name    Cafe Chaires  Cafeteria cenidet  Cafeteria y Restaurant El Pacifico  \\\n",
              "userID                                                                        \n",
              "U1001              0                  0                                   0   \n",
              "U1002              0                  0                                   0   \n",
              "U1003              0                  0                                   0   \n",
              "U1004              0                  0                                   2   \n",
              "U1005              0                  0                                   1   \n",
              "U1006              0                  0                                   0   \n",
              "U1007              1                  0                                   1   \n",
              "U1008              0                  0                                   0   \n",
              "U1009              0                  0                                   0   \n",
              "U1010              0                  0                                   0   \n",
              "\n",
              "name    Carls Jr  Carnitas Mata  Calle 16 de Septiembre  \\\n",
              "userID                                                    \n",
              "U1001          0                                      0   \n",
              "U1002          0                                      0   \n",
              "U1003          0                                      0   \n",
              "U1004          0                                      0   \n",
              "U1005          0                                      0   \n",
              "U1006          0                                      0   \n",
              "U1007          0                                      0   \n",
              "U1008          0                                      0   \n",
              "U1009          0                                      0   \n",
              "U1010          0                                      0   \n",
              "\n",
              "name    Carreton de Flautas y Migadas  Cenaduria El RincÃ³n de Tlaquepaque  \\\n",
              "userID                                                                       \n",
              "U1001                               0                                    0   \n",
              "U1002                               0                                    0   \n",
              "U1003                               0                                    0   \n",
              "U1004                               0                                    0   \n",
              "U1005                               0                                    0   \n",
              "U1006                               0                                    0   \n",
              "U1007                               0                                    0   \n",
              "U1008                               0                                    0   \n",
              "U1009                               0                                    0   \n",
              "U1010                               0                                    0   \n",
              "\n",
              "name    ...  puesto de tacos  rockabilly   shi ro ie  sirloin stockade  \\\n",
              "userID  ...                                                              \n",
              "U1001   ...                2            0          0                 0   \n",
              "U1002   ...                2            0          0                 0   \n",
              "U1003   ...                2            2          0                 0   \n",
              "U1004   ...                0            0          0                 0   \n",
              "U1005   ...                0            0          0                 0   \n",
              "U1006   ...                1            0          2                 0   \n",
              "U1007   ...                0            0          0                 0   \n",
              "U1008   ...                0            0          0                 0   \n",
              "U1009   ...                1            0          0                 0   \n",
              "U1010   ...                0            0          0                 0   \n",
              "\n",
              "name    tacos abi  tacos de barbacoa enfrente del Tec  tacos de la estacion  \\\n",
              "userID                                                                        \n",
              "U1001           0                                   0                     0   \n",
              "U1002           0                                   0                     0   \n",
              "U1003           0                                   0                     0   \n",
              "U1004           0                                   0                     0   \n",
              "U1005           0                                   0                     0   \n",
              "U1006           0                                   0                     0   \n",
              "U1007           0                                   0                     0   \n",
              "U1008           0                                   0                     0   \n",
              "U1009           0                                   0                     0   \n",
              "U1010           0                                   0                     0   \n",
              "\n",
              "name    tacos los volcanes  tortas hawai  vips  \n",
              "userID                                          \n",
              "U1001                    0             0     0  \n",
              "U1002                    0             0     0  \n",
              "U1003                    0             0     0  \n",
              "U1004                    2             0     0  \n",
              "U1005                    0             0     0  \n",
              "U1006                    0             0     0  \n",
              "U1007                    0             0     0  \n",
              "U1008                    0             0     0  \n",
              "U1009                    0             0     0  \n",
              "U1010                    0             0     0  \n",
              "\n",
              "[10 rows x 129 columns]"
            ],
            "text/html": [
              "\n",
              "  <div id=\"df-38a73646-32d5-4be9-b2de-cd3628582407\">\n",
              "    <div class=\"colab-df-container\">\n",
              "      <div>\n",
              "<style scoped>\n",
              "    .dataframe tbody tr th:only-of-type {\n",
              "        vertical-align: middle;\n",
              "    }\n",
              "\n",
              "    .dataframe tbody tr th {\n",
              "        vertical-align: top;\n",
              "    }\n",
              "\n",
              "    .dataframe thead th {\n",
              "        text-align: right;\n",
              "    }\n",
              "</style>\n",
              "<table border=\"1\" class=\"dataframe\">\n",
              "  <thead>\n",
              "    <tr style=\"text-align: right;\">\n",
              "      <th>name</th>\n",
              "      <th>Abondance Restaurante Bar</th>\n",
              "      <th>Arrachela Grill</th>\n",
              "      <th>Cabana Huasteca</th>\n",
              "      <th>Cafe Chaires</th>\n",
              "      <th>Cafeteria cenidet</th>\n",
              "      <th>Cafeteria y Restaurant El Pacifico</th>\n",
              "      <th>Carls Jr</th>\n",
              "      <th>Carnitas Mata  Calle 16 de Septiembre</th>\n",
              "      <th>Carreton de Flautas y Migadas</th>\n",
              "      <th>Cenaduria El RincÃ³n de Tlaquepaque</th>\n",
              "      <th>...</th>\n",
              "      <th>puesto de tacos</th>\n",
              "      <th>rockabilly</th>\n",
              "      <th>shi ro ie</th>\n",
              "      <th>sirloin stockade</th>\n",
              "      <th>tacos abi</th>\n",
              "      <th>tacos de barbacoa enfrente del Tec</th>\n",
              "      <th>tacos de la estacion</th>\n",
              "      <th>tacos los volcanes</th>\n",
              "      <th>tortas hawai</th>\n",
              "      <th>vips</th>\n",
              "    </tr>\n",
              "    <tr>\n",
              "      <th>userID</th>\n",
              "      <th></th>\n",
              "      <th></th>\n",
              "      <th></th>\n",
              "      <th></th>\n",
              "      <th></th>\n",
              "      <th></th>\n",
              "      <th></th>\n",
              "      <th></th>\n",
              "      <th></th>\n",
              "      <th></th>\n",
              "      <th></th>\n",
              "      <th></th>\n",
              "      <th></th>\n",
              "      <th></th>\n",
              "      <th></th>\n",
              "      <th></th>\n",
              "      <th></th>\n",
              "      <th></th>\n",
              "      <th></th>\n",
              "      <th></th>\n",
              "      <th></th>\n",
              "    </tr>\n",
              "  </thead>\n",
              "  <tbody>\n",
              "    <tr>\n",
              "      <th>U1001</th>\n",
              "      <td>0</td>\n",
              "      <td>0</td>\n",
              "      <td>0</td>\n",
              "      <td>0</td>\n",
              "      <td>0</td>\n",
              "      <td>0</td>\n",
              "      <td>0</td>\n",
              "      <td>0</td>\n",
              "      <td>0</td>\n",
              "      <td>0</td>\n",
              "      <td>...</td>\n",
              "      <td>2</td>\n",
              "      <td>0</td>\n",
              "      <td>0</td>\n",
              "      <td>0</td>\n",
              "      <td>0</td>\n",
              "      <td>0</td>\n",
              "      <td>0</td>\n",
              "      <td>0</td>\n",
              "      <td>0</td>\n",
              "      <td>0</td>\n",
              "    </tr>\n",
              "    <tr>\n",
              "      <th>U1002</th>\n",
              "      <td>0</td>\n",
              "      <td>0</td>\n",
              "      <td>0</td>\n",
              "      <td>0</td>\n",
              "      <td>0</td>\n",
              "      <td>0</td>\n",
              "      <td>0</td>\n",
              "      <td>0</td>\n",
              "      <td>0</td>\n",
              "      <td>0</td>\n",
              "      <td>...</td>\n",
              "      <td>2</td>\n",
              "      <td>0</td>\n",
              "      <td>0</td>\n",
              "      <td>0</td>\n",
              "      <td>0</td>\n",
              "      <td>0</td>\n",
              "      <td>0</td>\n",
              "      <td>0</td>\n",
              "      <td>0</td>\n",
              "      <td>0</td>\n",
              "    </tr>\n",
              "    <tr>\n",
              "      <th>U1003</th>\n",
              "      <td>0</td>\n",
              "      <td>0</td>\n",
              "      <td>2</td>\n",
              "      <td>0</td>\n",
              "      <td>0</td>\n",
              "      <td>0</td>\n",
              "      <td>0</td>\n",
              "      <td>0</td>\n",
              "      <td>0</td>\n",
              "      <td>0</td>\n",
              "      <td>...</td>\n",
              "      <td>2</td>\n",
              "      <td>2</td>\n",
              "      <td>0</td>\n",
              "      <td>0</td>\n",
              "      <td>0</td>\n",
              "      <td>0</td>\n",
              "      <td>0</td>\n",
              "      <td>0</td>\n",
              "      <td>0</td>\n",
              "      <td>0</td>\n",
              "    </tr>\n",
              "    <tr>\n",
              "      <th>U1004</th>\n",
              "      <td>0</td>\n",
              "      <td>0</td>\n",
              "      <td>0</td>\n",
              "      <td>0</td>\n",
              "      <td>0</td>\n",
              "      <td>2</td>\n",
              "      <td>0</td>\n",
              "      <td>0</td>\n",
              "      <td>0</td>\n",
              "      <td>0</td>\n",
              "      <td>...</td>\n",
              "      <td>0</td>\n",
              "      <td>0</td>\n",
              "      <td>0</td>\n",
              "      <td>0</td>\n",
              "      <td>0</td>\n",
              "      <td>0</td>\n",
              "      <td>0</td>\n",
              "      <td>2</td>\n",
              "      <td>0</td>\n",
              "      <td>0</td>\n",
              "    </tr>\n",
              "    <tr>\n",
              "      <th>U1005</th>\n",
              "      <td>0</td>\n",
              "      <td>0</td>\n",
              "      <td>0</td>\n",
              "      <td>0</td>\n",
              "      <td>0</td>\n",
              "      <td>1</td>\n",
              "      <td>0</td>\n",
              "      <td>0</td>\n",
              "      <td>0</td>\n",
              "      <td>0</td>\n",
              "      <td>...</td>\n",
              "      <td>0</td>\n",
              "      <td>0</td>\n",
              "      <td>0</td>\n",
              "      <td>0</td>\n",
              "      <td>0</td>\n",
              "      <td>0</td>\n",
              "      <td>0</td>\n",
              "      <td>0</td>\n",
              "      <td>0</td>\n",
              "      <td>0</td>\n",
              "    </tr>\n",
              "    <tr>\n",
              "      <th>U1006</th>\n",
              "      <td>0</td>\n",
              "      <td>0</td>\n",
              "      <td>0</td>\n",
              "      <td>0</td>\n",
              "      <td>0</td>\n",
              "      <td>0</td>\n",
              "      <td>0</td>\n",
              "      <td>0</td>\n",
              "      <td>0</td>\n",
              "      <td>0</td>\n",
              "      <td>...</td>\n",
              "      <td>1</td>\n",
              "      <td>0</td>\n",
              "      <td>2</td>\n",
              "      <td>0</td>\n",
              "      <td>0</td>\n",
              "      <td>0</td>\n",
              "      <td>0</td>\n",
              "      <td>0</td>\n",
              "      <td>0</td>\n",
              "      <td>0</td>\n",
              "    </tr>\n",
              "    <tr>\n",
              "      <th>U1007</th>\n",
              "      <td>0</td>\n",
              "      <td>0</td>\n",
              "      <td>0</td>\n",
              "      <td>1</td>\n",
              "      <td>0</td>\n",
              "      <td>1</td>\n",
              "      <td>0</td>\n",
              "      <td>0</td>\n",
              "      <td>0</td>\n",
              "      <td>0</td>\n",
              "      <td>...</td>\n",
              "      <td>0</td>\n",
              "      <td>0</td>\n",
              "      <td>0</td>\n",
              "      <td>0</td>\n",
              "      <td>0</td>\n",
              "      <td>0</td>\n",
              "      <td>0</td>\n",
              "      <td>0</td>\n",
              "      <td>0</td>\n",
              "      <td>0</td>\n",
              "    </tr>\n",
              "    <tr>\n",
              "      <th>U1008</th>\n",
              "      <td>1</td>\n",
              "      <td>0</td>\n",
              "      <td>0</td>\n",
              "      <td>0</td>\n",
              "      <td>0</td>\n",
              "      <td>0</td>\n",
              "      <td>0</td>\n",
              "      <td>0</td>\n",
              "      <td>0</td>\n",
              "      <td>0</td>\n",
              "      <td>...</td>\n",
              "      <td>0</td>\n",
              "      <td>0</td>\n",
              "      <td>0</td>\n",
              "      <td>0</td>\n",
              "      <td>0</td>\n",
              "      <td>0</td>\n",
              "      <td>0</td>\n",
              "      <td>0</td>\n",
              "      <td>0</td>\n",
              "      <td>0</td>\n",
              "    </tr>\n",
              "    <tr>\n",
              "      <th>U1009</th>\n",
              "      <td>0</td>\n",
              "      <td>0</td>\n",
              "      <td>2</td>\n",
              "      <td>0</td>\n",
              "      <td>0</td>\n",
              "      <td>0</td>\n",
              "      <td>0</td>\n",
              "      <td>0</td>\n",
              "      <td>0</td>\n",
              "      <td>0</td>\n",
              "      <td>...</td>\n",
              "      <td>1</td>\n",
              "      <td>0</td>\n",
              "      <td>0</td>\n",
              "      <td>0</td>\n",
              "      <td>0</td>\n",
              "      <td>0</td>\n",
              "      <td>0</td>\n",
              "      <td>0</td>\n",
              "      <td>0</td>\n",
              "      <td>0</td>\n",
              "    </tr>\n",
              "    <tr>\n",
              "      <th>U1010</th>\n",
              "      <td>0</td>\n",
              "      <td>0</td>\n",
              "      <td>0</td>\n",
              "      <td>0</td>\n",
              "      <td>0</td>\n",
              "      <td>0</td>\n",
              "      <td>0</td>\n",
              "      <td>0</td>\n",
              "      <td>0</td>\n",
              "      <td>0</td>\n",
              "      <td>...</td>\n",
              "      <td>0</td>\n",
              "      <td>0</td>\n",
              "      <td>0</td>\n",
              "      <td>0</td>\n",
              "      <td>0</td>\n",
              "      <td>0</td>\n",
              "      <td>0</td>\n",
              "      <td>0</td>\n",
              "      <td>0</td>\n",
              "      <td>0</td>\n",
              "    </tr>\n",
              "  </tbody>\n",
              "</table>\n",
              "<p>10 rows × 129 columns</p>\n",
              "</div>\n",
              "      <button class=\"colab-df-convert\" onclick=\"convertToInteractive('df-38a73646-32d5-4be9-b2de-cd3628582407')\"\n",
              "              title=\"Convert this dataframe to an interactive table.\"\n",
              "              style=\"display:none;\">\n",
              "        \n",
              "  <svg xmlns=\"http://www.w3.org/2000/svg\" height=\"24px\"viewBox=\"0 0 24 24\"\n",
              "       width=\"24px\">\n",
              "    <path d=\"M0 0h24v24H0V0z\" fill=\"none\"/>\n",
              "    <path d=\"M18.56 5.44l.94 2.06.94-2.06 2.06-.94-2.06-.94-.94-2.06-.94 2.06-2.06.94zm-11 1L8.5 8.5l.94-2.06 2.06-.94-2.06-.94L8.5 2.5l-.94 2.06-2.06.94zm10 10l.94 2.06.94-2.06 2.06-.94-2.06-.94-.94-2.06-.94 2.06-2.06.94z\"/><path d=\"M17.41 7.96l-1.37-1.37c-.4-.4-.92-.59-1.43-.59-.52 0-1.04.2-1.43.59L10.3 9.45l-7.72 7.72c-.78.78-.78 2.05 0 2.83L4 21.41c.39.39.9.59 1.41.59.51 0 1.02-.2 1.41-.59l7.78-7.78 2.81-2.81c.8-.78.8-2.07 0-2.86zM5.41 20L4 18.59l7.72-7.72 1.47 1.35L5.41 20z\"/>\n",
              "  </svg>\n",
              "      </button>\n",
              "      \n",
              "  <style>\n",
              "    .colab-df-container {\n",
              "      display:flex;\n",
              "      flex-wrap:wrap;\n",
              "      gap: 12px;\n",
              "    }\n",
              "\n",
              "    .colab-df-convert {\n",
              "      background-color: #E8F0FE;\n",
              "      border: none;\n",
              "      border-radius: 50%;\n",
              "      cursor: pointer;\n",
              "      display: none;\n",
              "      fill: #1967D2;\n",
              "      height: 32px;\n",
              "      padding: 0 0 0 0;\n",
              "      width: 32px;\n",
              "    }\n",
              "\n",
              "    .colab-df-convert:hover {\n",
              "      background-color: #E2EBFA;\n",
              "      box-shadow: 0px 1px 2px rgba(60, 64, 67, 0.3), 0px 1px 3px 1px rgba(60, 64, 67, 0.15);\n",
              "      fill: #174EA6;\n",
              "    }\n",
              "\n",
              "    [theme=dark] .colab-df-convert {\n",
              "      background-color: #3B4455;\n",
              "      fill: #D2E3FC;\n",
              "    }\n",
              "\n",
              "    [theme=dark] .colab-df-convert:hover {\n",
              "      background-color: #434B5C;\n",
              "      box-shadow: 0px 1px 3px 1px rgba(0, 0, 0, 0.15);\n",
              "      filter: drop-shadow(0px 1px 2px rgba(0, 0, 0, 0.3));\n",
              "      fill: #FFFFFF;\n",
              "    }\n",
              "  </style>\n",
              "\n",
              "      <script>\n",
              "        const buttonEl =\n",
              "          document.querySelector('#df-38a73646-32d5-4be9-b2de-cd3628582407 button.colab-df-convert');\n",
              "        buttonEl.style.display =\n",
              "          google.colab.kernel.accessAllowed ? 'block' : 'none';\n",
              "\n",
              "        async function convertToInteractive(key) {\n",
              "          const element = document.querySelector('#df-38a73646-32d5-4be9-b2de-cd3628582407');\n",
              "          const dataTable =\n",
              "            await google.colab.kernel.invokeFunction('convertToInteractive',\n",
              "                                                     [key], {});\n",
              "          if (!dataTable) return;\n",
              "\n",
              "          const docLinkHtml = 'Like what you see? Visit the ' +\n",
              "            '<a target=\"_blank\" href=https://colab.research.google.com/notebooks/data_table.ipynb>data table notebook</a>'\n",
              "            + ' to learn more about interactive tables.';\n",
              "          element.innerHTML = '';\n",
              "          dataTable['output_type'] = 'display_data';\n",
              "          await google.colab.output.renderOutput(dataTable, element);\n",
              "          const docLink = document.createElement('div');\n",
              "          docLink.innerHTML = docLinkHtml;\n",
              "          element.appendChild(docLink);\n",
              "        }\n",
              "      </script>\n",
              "    </div>\n",
              "  </div>\n",
              "  "
            ]
          },
          "metadata": {},
          "execution_count": 40
        }
      ]
    },
    {
      "cell_type": "markdown",
      "source": [
        "## **7.2 Factorización con todos los elementos posibles.**"
      ],
      "metadata": {
        "id": "2viEZHnCxXl7"
      }
    },
    {
      "cell_type": "code",
      "source": [
        "z = dfz.T #para evitar cruzar la información con el primer ejercicio cambiamos la x,w por z\n",
        "z.shape"
      ],
      "metadata": {
        "colab": {
          "base_uri": "https://localhost:8080/"
        },
        "id": "sr89afnoxjBi",
        "outputId": "a003e146-df2a-4951-9b18-463be3a3ce35"
      },
      "execution_count": 41,
      "outputs": [
        {
          "output_type": "execute_result",
          "data": {
            "text/plain": [
              "(129, 138)"
            ]
          },
          "metadata": {},
          "execution_count": 41
        }
      ]
    },
    {
      "cell_type": "code",
      "source": [
        "num_svz = 137\n",
        "\n",
        "SVDz = TruncatedSVD(n_components=num_svz, random_state=1)\n",
        "\n",
        "resultant_matrixz = SVDz.fit_transform(z)\n",
        "resultant_matrixz.shape"
      ],
      "metadata": {
        "colab": {
          "base_uri": "https://localhost:8080/"
        },
        "id": "XyJtSArLyB95",
        "outputId": "ecc83b74-0817-4227-d85e-f7c5945d15fb"
      },
      "execution_count": 42,
      "outputs": [
        {
          "output_type": "execute_result",
          "data": {
            "text/plain": [
              "(129, 129)"
            ]
          },
          "metadata": {},
          "execution_count": 42
        }
      ]
    },
    {
      "cell_type": "markdown",
      "source": [
        "## **7.3 10 mejores recomendaciones con métrica de Pearon.**"
      ],
      "metadata": {
        "id": "0l4lWzRFxZxD"
      }
    },
    {
      "cell_type": "code",
      "source": [
        "corrMxz = np.corrcoef(resultant_matrixz, )\n",
        "corrMxz.shape"
      ],
      "metadata": {
        "colab": {
          "base_uri": "https://localhost:8080/"
        },
        "id": "0fXJwprWyIfV",
        "outputId": "939adf49-fbc3-4519-9a3c-84834388cbb0"
      },
      "execution_count": 43,
      "outputs": [
        {
          "output_type": "execute_result",
          "data": {
            "text/plain": [
              "(129, 129)"
            ]
          },
          "metadata": {},
          "execution_count": 43
        }
      ]
    },
    {
      "cell_type": "code",
      "source": [
        "me_gustaz = \"Subway\"\n",
        "\n",
        "namesz = dfz.columns\n",
        "names_listz = list(namesz)\n",
        "id_megustaz = names_listz.index(me_gustaz)\n",
        "\n",
        "id_megustaz"
      ],
      "metadata": {
        "colab": {
          "base_uri": "https://localhost:8080/"
        },
        "id": "SliZ2pORyPCX",
        "outputId": "fba3c032-f701-4ce2-c34d-d260aa0786de"
      },
      "execution_count": 44,
      "outputs": [
        {
          "output_type": "execute_result",
          "data": {
            "text/plain": [
              "88"
            ]
          },
          "metadata": {},
          "execution_count": 44
        }
      ]
    },
    {
      "cell_type": "code",
      "source": [
        "corr_recomiendaz = corrMxz[id_megustaz]\n",
        "print(corr_recomiendaz)"
      ],
      "metadata": {
        "colab": {
          "base_uri": "https://localhost:8080/"
        },
        "id": "tm_CTm9iyWbm",
        "outputId": "08024173-33fd-4527-e6c5-c19f82a9bca5"
      },
      "execution_count": 45,
      "outputs": [
        {
          "output_type": "stream",
          "name": "stdout",
          "text": [
            "[-2.91095724e-04 -3.60361693e-03  4.17542463e-03  5.49600644e-03\n",
            "  8.22025821e-03  9.26584331e-04 -1.84324856e-04  2.08477911e-02\n",
            "  4.16661248e-04  5.49213204e-03 -9.83321202e-03  2.30697829e-01\n",
            " -7.71002964e-04 -7.78964069e-03  4.28478573e-03 -1.96660815e-03\n",
            "  6.46627016e-03  1.22858323e-02  5.23591750e-03 -3.37285475e-03\n",
            "  4.22033518e-03  1.92759594e-01  3.25932626e-03  1.31225788e-02\n",
            "  1.02856131e-02  1.08386707e-02 -2.32136875e-03  9.93522146e-03\n",
            " -8.13035667e-03  1.78740094e-01  1.27492522e-03  4.01749269e-03\n",
            "  9.93395882e-03  1.06861306e-02  1.08193009e-02  6.49374214e-03\n",
            "  2.57816306e-03  1.10159929e-02  1.62133585e-02  9.40455020e-03\n",
            "  1.04115070e-02  1.39761855e-01  4.95429442e-03  1.01065382e-02\n",
            "  7.45513647e-03  1.62758051e-02  3.65933684e-01 -4.53806898e-03\n",
            "  1.94095851e-03  6.28735982e-03  7.08759527e-03  4.35778543e-03\n",
            "  7.61149284e-03  6.86889327e-03  1.82869479e-01  2.26266242e-01\n",
            "  8.41417946e-03 -1.38744406e-02  7.72973139e-01  2.58304203e-04\n",
            "  6.00160625e-01  1.00855481e-02 -8.87397356e-03  5.37102617e-03\n",
            "  9.70530131e-03  7.08173024e-03  8.06957518e-03 -5.45053917e-03\n",
            "  1.25456353e-02  8.27983430e-03  1.25915854e-03  9.13235634e-03\n",
            " -4.90925954e-03 -1.55909907e-03  2.56719712e-04 -6.13210589e-04\n",
            "  2.33141129e-03 -2.84236088e-03  1.34229000e-02  8.54134908e-03\n",
            " -1.95914298e-03 -5.67817255e-03 -1.88379679e-03 -4.53066053e-03\n",
            "  6.90749795e-03  5.18731471e-01  1.27712441e-01  7.79875544e-03\n",
            "  1.00000000e+00  4.34972686e-03  8.04472608e-03  6.45175638e-03\n",
            "  1.22023121e-03 -4.61635454e-03  6.39825008e-03 -3.57085063e-05\n",
            "  1.83854290e-02  4.21199865e-01  1.79626257e-02  1.24610098e-03\n",
            "  1.08222404e-03  4.99735712e-03 -2.30140973e-03  1.04895738e-02\n",
            "  1.77207012e-02  2.00752244e-03  5.47674807e-03  6.21699772e-03\n",
            "  5.79785841e-03  7.94287249e-03 -3.95650667e-03  8.62442429e-04\n",
            "  7.08373006e-03  1.23364795e-02  2.16018684e-04  5.50503399e-03\n",
            "  8.88686634e-03 -2.03244541e-03 -3.76225432e-03 -1.21854452e-03\n",
            "  8.12542032e-03  1.30362979e-02  7.65454017e-03  3.31990513e-03\n",
            "  6.15048940e-03  8.03179308e-03  9.69117004e-03 -1.69077232e-03\n",
            "  6.83466681e-03]\n"
          ]
        }
      ]
    },
    {
      "cell_type": "code",
      "source": [
        "list(namesz[np.argsort(corr_recomiendaz)][-11:-1])"
      ],
      "metadata": {
        "id": "PbneozDSyjHM",
        "outputId": "4289916e-4095-4994-e9ea-fdc479a8d029",
        "colab": {
          "base_uri": "https://localhost:8080/"
        }
      },
      "execution_count": 46,
      "outputs": [
        {
          "output_type": "execute_result",
          "data": {
            "text/plain": [
              "['Kiku Cuernavaca',\n",
              " 'Restaurant Familiar El Chino',\n",
              " 'Giovannis',\n",
              " 'Restaurant Las Mananitas',\n",
              " 'Chilis Cuernavaca',\n",
              " 'Paniroles',\n",
              " 'Vips',\n",
              " 'Rincon del Bife',\n",
              " 'Restaurant and Bar and Clothesline Carlos N Charlies',\n",
              " 'Restaurant Teely']"
            ]
          },
          "metadata": {},
          "execution_count": 46
        }
      ]
    },
    {
      "cell_type": "markdown",
      "source": [
        "## **7.4 Disminuir dimension de Factorizacion.**"
      ],
      "metadata": {
        "id": "he4j5DdmDLy6"
      }
    },
    {
      "cell_type": "code",
      "source": [
        "z2 = dfz.T\n",
        "z2.shape"
      ],
      "metadata": {
        "colab": {
          "base_uri": "https://localhost:8080/"
        },
        "id": "5CHilqDJDOYv",
        "outputId": "bfcb0766-66a5-4f88-8690-c4bf505980d7"
      },
      "execution_count": 47,
      "outputs": [
        {
          "output_type": "execute_result",
          "data": {
            "text/plain": [
              "(129, 138)"
            ]
          },
          "metadata": {},
          "execution_count": 47
        }
      ]
    },
    {
      "cell_type": "code",
      "source": [
        "SVDz2 = TruncatedSVD(n_components=137, random_state=1)  \n",
        "SVDz2.fit(z2)\n",
        "\n",
        "num_svz2 = 47\n",
        "\n",
        "print('Cantidad de información simplificada con los primeros %d vectores singulares:' % num_svz2)\n",
        "print('%.1f%%' %  (100 * (1- (SVDz2.singular_values_[0:num_svz2]).sum() / (SVDz2.singular_values_).sum())))"
      ],
      "metadata": {
        "colab": {
          "base_uri": "https://localhost:8080/"
        },
        "id": "YDEMg0m2DOWR",
        "outputId": "eefe169a-7866-4eb5-ad6d-bcc89a5b7eca"
      },
      "execution_count": 48,
      "outputs": [
        {
          "output_type": "stream",
          "name": "stdout",
          "text": [
            "Cantidad de información simplificada con los primeros 47 vectores singulares:\n",
            "29.9%\n"
          ]
        }
      ]
    },
    {
      "cell_type": "code",
      "source": [
        "num_svz2 = 47\n",
        "\n",
        "SVDz2 = TruncatedSVD(n_components=num_svz2, random_state=1)\n",
        "\n",
        "resultant_matrixz2 = SVDz2.fit_transform(z2)\n",
        "resultant_matrixz2.shape"
      ],
      "metadata": {
        "colab": {
          "base_uri": "https://localhost:8080/"
        },
        "id": "E-zCcfL8DOUE",
        "outputId": "8d253473-7d94-4dfc-d1f7-28676d73c799"
      },
      "execution_count": 49,
      "outputs": [
        {
          "output_type": "execute_result",
          "data": {
            "text/plain": [
              "(129, 47)"
            ]
          },
          "metadata": {},
          "execution_count": 49
        }
      ]
    },
    {
      "cell_type": "code",
      "source": [
        "corrMxz2 = np.corrcoef(resultant_matrixz2, )\n",
        "corrMxz2.shape"
      ],
      "metadata": {
        "colab": {
          "base_uri": "https://localhost:8080/"
        },
        "id": "79owglK6DON9",
        "outputId": "e602dd43-ec3f-4530-be7f-98cb2ed49b28"
      },
      "execution_count": 50,
      "outputs": [
        {
          "output_type": "execute_result",
          "data": {
            "text/plain": [
              "(129, 129)"
            ]
          },
          "metadata": {},
          "execution_count": 50
        }
      ]
    },
    {
      "cell_type": "code",
      "source": [
        "me_gustaz2 = \"Subway\"\n",
        "\n",
        "namesz2 = UtMx.columns\n",
        "names_listz2 = list(namesz2)\n",
        "id_megustaz2 = names_listz2.index(me_gustaz2)\n",
        "\n",
        "id_megustaz2"
      ],
      "metadata": {
        "colab": {
          "base_uri": "https://localhost:8080/"
        },
        "id": "G2ZcyevLDOGl",
        "outputId": "4edeae9a-caaf-4a68-d0bc-6c3a0e24164d"
      },
      "execution_count": 51,
      "outputs": [
        {
          "output_type": "execute_result",
          "data": {
            "text/plain": [
              "88"
            ]
          },
          "metadata": {},
          "execution_count": 51
        }
      ]
    },
    {
      "cell_type": "code",
      "source": [
        "corr_recomiendaz2 = corrMxz2[id_megustaz2]\n",
        "print(corr_recomiendaz2)"
      ],
      "metadata": {
        "colab": {
          "base_uri": "https://localhost:8080/"
        },
        "id": "jO-FbVpbEAg7",
        "outputId": "1e748b04-fec6-471a-a6ce-e0c5066558a5"
      },
      "execution_count": 52,
      "outputs": [
        {
          "output_type": "stream",
          "name": "stdout",
          "text": [
            "[ 6.13434924e-03  9.06740129e-02  1.02052815e-02  5.99258738e-03\n",
            "  5.52480109e-02  2.25170669e-03 -3.13729072e-03  2.16389813e-02\n",
            "  1.04659739e-03  1.17378634e-02 -9.06481861e-03  2.33238097e-01\n",
            " -5.27939850e-03 -6.16448432e-03  7.81786074e-03 -9.12792085e-03\n",
            "  1.08244322e-01  1.76091928e-02  5.68457672e-03  1.20650327e-03\n",
            "  2.64112930e-03  2.91518571e-01  1.49134581e-02  2.46038552e-02\n",
            "  1.67841480e-02  1.50898785e-02  1.46722469e-02  7.11365008e-03\n",
            " -1.09806385e-02  1.86747217e-01 -6.21035248e-03  8.08867145e-03\n",
            "  9.07642411e-03  9.48208835e-03  1.47932096e-02  3.79633313e-03\n",
            " -5.01905974e-04  2.85188497e-02  1.24290204e-01  7.96237698e-03\n",
            "  2.17623279e-02  1.85759573e-01 -1.49656091e-01  1.13683966e-02\n",
            "  3.34353878e-03  8.56616492e-02  5.46168927e-01 -3.12381241e-03\n",
            "  3.26316165e-02  6.05816009e-03  1.63600201e-02  3.28561622e-02\n",
            "  7.58116500e-03  9.52990245e-03  1.80047371e-01  2.34506825e-01\n",
            "  1.73350496e-02 -2.60729203e-02  9.57599405e-01 -1.16059670e-02\n",
            "  8.74794556e-01  8.44159208e-03 -1.78949341e-02 -9.85449032e-03\n",
            " -1.26985951e-01  1.12827861e-02  1.24160458e-02 -1.30599227e-02\n",
            "  2.90377057e-02  2.12919302e-02  3.40402997e-04  1.40411645e-02\n",
            " -2.25931753e-04 -1.64491529e-03  2.01385867e-03 -1.12840338e-02\n",
            "  7.72748948e-03 -3.72910998e-03  2.54488931e-02  2.00737476e-02\n",
            " -3.73179630e-03 -1.11139420e-02 -1.17263634e-03 -4.84204066e-03\n",
            "  3.56514828e-03  6.96959388e-01  1.51787379e-01  1.49289050e-02\n",
            "  1.00000000e+00 -3.17355492e-03  1.85938392e-02  5.47239098e-03\n",
            "  1.03348523e-02 -6.22308631e-03  1.18109695e-03  6.17393306e-03\n",
            "  2.16734845e-02  4.60153275e-01  2.11693490e-02  1.51240368e-02\n",
            "  1.38637820e-02  6.46682038e-03  3.10419602e-03  1.59613011e-02\n",
            "  1.96374553e-02 -5.19452553e-03 -1.94750306e-04  1.29367219e-02\n",
            "  9.83537788e-03  1.82508824e-02  4.03143145e-03  1.14588729e-02\n",
            "  8.97598746e-03  1.94387895e-02  7.18820941e-03  1.13527128e-03\n",
            "  1.96382981e-02 -9.37865418e-03  6.06938563e-03 -3.23503530e-03\n",
            "  8.39457493e-03  1.06169463e-02  1.83391818e-02  4.17653682e-03\n",
            "  7.73011127e-03  7.00852988e-03  1.46482485e-02 -8.76399441e-03\n",
            "  1.11239732e-02]\n"
          ]
        }
      ]
    },
    {
      "cell_type": "code",
      "source": [
        "list(namesz2[np.argsort(corr_recomiendaz2)][-11:-1])"
      ],
      "metadata": {
        "colab": {
          "base_uri": "https://localhost:8080/"
        },
        "id": "TWzEtSM-EAZ_",
        "outputId": "339eb2b5-c425-4986-b61a-cb479337e93e"
      },
      "execution_count": 53,
      "outputs": [
        {
          "output_type": "execute_result",
          "data": {
            "text/plain": [
              "['Mariscos Tia Licha',\n",
              " 'Kiku Cuernavaca',\n",
              " 'Chilis Cuernavaca',\n",
              " 'Restaurant Las Mananitas',\n",
              " 'Giovannis',\n",
              " 'Vips',\n",
              " 'Paniroles',\n",
              " 'Rincon del Bife',\n",
              " 'Restaurant and Bar and Clothesline Carlos N Charlies',\n",
              " 'Restaurant Teely']"
            ]
          },
          "metadata": {},
          "execution_count": 53
        }
      ]
    },
    {
      "cell_type": "markdown",
      "source": [
        "## **Ejercicio 8**"
      ],
      "metadata": {
        "id": "h-zqFJP6uHg7"
      }
    },
    {
      "cell_type": "markdown",
      "source": [
        "---\n",
        "Incluye tus conclusiones finales. En particular indica la coincidencia o no de estos tres modelos.\n",
        "\n",
        "---"
      ],
      "metadata": {
        "id": "1LRlCjJmuxTj"
      }
    },
    {
      "cell_type": "markdown",
      "source": [
        "Al realizar varias veces estos ejercicios pero reemplazando nuestro valor entre rating, food_rating y service_rating observamos lo siguiente:\n",
        "\n",
        "* Los siguientes restaurantes tuvieron coincidencia en los 3 modelos:\n",
        "    \n",
        "    *   Vips\n",
        "    *   Rincon del Bife\n",
        "    *   Restaurant Teely\n",
        "    *   Restaurant and Bar and Clothesline Carlos N Charlies\n",
        "\n",
        "* Los siguientes restaurantes tuvieron coincidencia tanto en recomendaciones por rating como por food_rating.\n",
        "\n",
        "    *   Mariscos Tia Licha\n",
        "    *   Sanborns Casa Piedra\n",
        "\n",
        "* Los siguientes restaurantes tuvieron coincidencia tanto en recomendaciones por rating como por service_rating.\n",
        "\n",
        "    *   Chilis Cuernavaca\n",
        "\n",
        "* Los siguientes restaurantes tuvieron coincidencia tanto en recomendaciones por food_rating como por service_rating.\n",
        "\n",
        "    *   Restaurant Familiar El Chino\n",
        "    *   Kiku Cuernavaca\n",
        "    *   Paniroles\n",
        "    *   Restaurant Las Mananitas\n",
        "\n",
        "\n",
        "Cuando realizamos la disminución de la factorización con el numero de componentes, observamos lo siguiente: \n",
        "\n",
        "* Para el primer modelo, basado en **rating**, la cantidad mínima de valores para mantener 9 de las 10 recomendaciones dadas con todos los valores singulares es de **5**.\n",
        "\n",
        "* Para el segundo modelo, basado en **food_rating**, la cantidad mínima de valores para mantener 9 de las 10 recomendaciones dadas con todos los valores singulares es de **74**.\n",
        "\n",
        "* Para el segundo modelo, basado en **service_rating**, la cantidad mínima de valores para mantener 9 de las 10 recomendaciones dadas con todos los valores singulares es de **47**.\n",
        "\n",
        "Podemos observar que el primer modelo presenta la mayor disminucion, con una gran diferencia ante los otros dos modelos. "
      ],
      "metadata": {
        "id": "qhNq5LKPu0oe"
      }
    }
  ]
}